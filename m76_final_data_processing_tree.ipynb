{
  "cells": [
    {
      "cell_type": "markdown",
      "id": "d297004b",
      "metadata": {
        "id": "d297004b"
      },
      "source": [
        "# To do\n",
        "\n",
        "Create separation cases for athletics and swimming to go by event rather than sport\n",
        "\n",
        "Rhythmic gymnastics, boxing, gymnastics (top 2), skeleton, swimming (top 2), athletics (top 2), weightlifting\n",
        "\n",
        "Completed test data: Women’s Foil Fencing, Individual, Archery (Men’s), Diving (Men’s), Gymnastics (Floor Exercise Women’s)\n",
        "\n",
        "## List of events for model prediction:\n",
        "Swimming Women's 4 x 100 metres Freestyle Relay\n",
        "Basketball Men's Basketball\n",
        "\n",
        "## Models:\n",
        "Decision Tree, Logistic Reg, KNN, SVC\n",
        "\n",
        "\n",
        "## UI + Presentation + Report"
      ]
    },
    {
      "cell_type": "code",
      "execution_count": null,
      "id": "8b89004b",
      "metadata": {
        "scrolled": false,
        "id": "8b89004b",
        "outputId": "87ba8d5d-0c38-4dc9-a26c-9e9808b860a9"
      },
      "outputs": [
        {
          "name": "stdout",
          "output_type": "stream",
          "text": [
            "(271116, 15)\n"
          ]
        }
      ],
      "source": [
        "#importing data\n",
        "import pandas as pd\n",
        "from sklearn.tree import DecisionTreeClassifier, export_text\n",
        "from sklearn.model_selection import train_test_split\n",
        "from sklearn.preprocessing import StandardScaler\n",
        "from sklearn.metrics import accuracy_score\n",
        "from sklearn.inspection import DecisionBoundaryDisplay\n",
        "\n",
        "df = pd.read_csv(\"/Users/ckelv/Desktop/other m76/athlete_events.csv\")\n",
        "print(df.shape)"
      ]
    },
    {
      "cell_type": "code",
      "execution_count": null,
      "id": "aac7ed20",
      "metadata": {
        "scrolled": true,
        "id": "aac7ed20",
        "outputId": "fbb8ef88-e02a-40ae-8664-1b1abdda4f6b"
      },
      "outputs": [
        {
          "data": {
            "text/html": [
              "<div>\n",
              "<style scoped>\n",
              "    .dataframe tbody tr th:only-of-type {\n",
              "        vertical-align: middle;\n",
              "    }\n",
              "\n",
              "    .dataframe tbody tr th {\n",
              "        vertical-align: top;\n",
              "    }\n",
              "\n",
              "    .dataframe thead th {\n",
              "        text-align: right;\n",
              "    }\n",
              "</style>\n",
              "<table border=\"1\" class=\"dataframe\">\n",
              "  <thead>\n",
              "    <tr style=\"text-align: right;\">\n",
              "      <th></th>\n",
              "      <th>ID</th>\n",
              "      <th>Name</th>\n",
              "      <th>Sex</th>\n",
              "      <th>Age</th>\n",
              "      <th>Height</th>\n",
              "      <th>Weight</th>\n",
              "      <th>Team</th>\n",
              "      <th>NOC</th>\n",
              "      <th>Games</th>\n",
              "      <th>Year</th>\n",
              "      <th>Season</th>\n",
              "      <th>City</th>\n",
              "      <th>Sport</th>\n",
              "      <th>Event</th>\n",
              "      <th>Medal</th>\n",
              "    </tr>\n",
              "  </thead>\n",
              "  <tbody>\n",
              "    <tr>\n",
              "      <th>0</th>\n",
              "      <td>1</td>\n",
              "      <td>A Dijiang</td>\n",
              "      <td>M</td>\n",
              "      <td>24.0</td>\n",
              "      <td>180.0</td>\n",
              "      <td>80.0</td>\n",
              "      <td>China</td>\n",
              "      <td>CHN</td>\n",
              "      <td>1992 Summer</td>\n",
              "      <td>1992</td>\n",
              "      <td>Summer</td>\n",
              "      <td>Barcelona</td>\n",
              "      <td>Basketball</td>\n",
              "      <td>Basketball Men's Basketball</td>\n",
              "      <td>NaN</td>\n",
              "    </tr>\n",
              "    <tr>\n",
              "      <th>1</th>\n",
              "      <td>2</td>\n",
              "      <td>A Lamusi</td>\n",
              "      <td>M</td>\n",
              "      <td>23.0</td>\n",
              "      <td>170.0</td>\n",
              "      <td>60.0</td>\n",
              "      <td>China</td>\n",
              "      <td>CHN</td>\n",
              "      <td>2012 Summer</td>\n",
              "      <td>2012</td>\n",
              "      <td>Summer</td>\n",
              "      <td>London</td>\n",
              "      <td>Judo</td>\n",
              "      <td>Judo Men's Extra-Lightweight</td>\n",
              "      <td>NaN</td>\n",
              "    </tr>\n",
              "    <tr>\n",
              "      <th>2</th>\n",
              "      <td>3</td>\n",
              "      <td>Gunnar Nielsen Aaby</td>\n",
              "      <td>M</td>\n",
              "      <td>24.0</td>\n",
              "      <td>NaN</td>\n",
              "      <td>NaN</td>\n",
              "      <td>Denmark</td>\n",
              "      <td>DEN</td>\n",
              "      <td>1920 Summer</td>\n",
              "      <td>1920</td>\n",
              "      <td>Summer</td>\n",
              "      <td>Antwerpen</td>\n",
              "      <td>Football</td>\n",
              "      <td>Football Men's Football</td>\n",
              "      <td>NaN</td>\n",
              "    </tr>\n",
              "    <tr>\n",
              "      <th>3</th>\n",
              "      <td>4</td>\n",
              "      <td>Edgar Lindenau Aabye</td>\n",
              "      <td>M</td>\n",
              "      <td>34.0</td>\n",
              "      <td>NaN</td>\n",
              "      <td>NaN</td>\n",
              "      <td>Denmark/Sweden</td>\n",
              "      <td>DEN</td>\n",
              "      <td>1900 Summer</td>\n",
              "      <td>1900</td>\n",
              "      <td>Summer</td>\n",
              "      <td>Paris</td>\n",
              "      <td>Tug-Of-War</td>\n",
              "      <td>Tug-Of-War Men's Tug-Of-War</td>\n",
              "      <td>Gold</td>\n",
              "    </tr>\n",
              "    <tr>\n",
              "      <th>4</th>\n",
              "      <td>5</td>\n",
              "      <td>Christine Jacoba Aaftink</td>\n",
              "      <td>F</td>\n",
              "      <td>21.0</td>\n",
              "      <td>185.0</td>\n",
              "      <td>82.0</td>\n",
              "      <td>Netherlands</td>\n",
              "      <td>NED</td>\n",
              "      <td>1988 Winter</td>\n",
              "      <td>1988</td>\n",
              "      <td>Winter</td>\n",
              "      <td>Calgary</td>\n",
              "      <td>Speed Skating</td>\n",
              "      <td>Speed Skating Women's 500 metres</td>\n",
              "      <td>NaN</td>\n",
              "    </tr>\n",
              "  </tbody>\n",
              "</table>\n",
              "</div>"
            ],
            "text/plain": [
              "   ID                      Name Sex   Age  Height  Weight            Team  \\\n",
              "0   1                 A Dijiang   M  24.0   180.0    80.0           China   \n",
              "1   2                  A Lamusi   M  23.0   170.0    60.0           China   \n",
              "2   3       Gunnar Nielsen Aaby   M  24.0     NaN     NaN         Denmark   \n",
              "3   4      Edgar Lindenau Aabye   M  34.0     NaN     NaN  Denmark/Sweden   \n",
              "4   5  Christine Jacoba Aaftink   F  21.0   185.0    82.0     Netherlands   \n",
              "\n",
              "   NOC        Games  Year  Season       City          Sport  \\\n",
              "0  CHN  1992 Summer  1992  Summer  Barcelona     Basketball   \n",
              "1  CHN  2012 Summer  2012  Summer     London           Judo   \n",
              "2  DEN  1920 Summer  1920  Summer  Antwerpen       Football   \n",
              "3  DEN  1900 Summer  1900  Summer      Paris     Tug-Of-War   \n",
              "4  NED  1988 Winter  1988  Winter    Calgary  Speed Skating   \n",
              "\n",
              "                              Event Medal  \n",
              "0       Basketball Men's Basketball   NaN  \n",
              "1      Judo Men's Extra-Lightweight   NaN  \n",
              "2           Football Men's Football   NaN  \n",
              "3       Tug-Of-War Men's Tug-Of-War  Gold  \n",
              "4  Speed Skating Women's 500 metres   NaN  "
            ]
          },
          "execution_count": 2,
          "metadata": {},
          "output_type": "execute_result"
        }
      ],
      "source": [
        "df.head()"
      ]
    },
    {
      "cell_type": "code",
      "execution_count": null,
      "id": "7b0efe1c",
      "metadata": {
        "id": "7b0efe1c",
        "outputId": "7ed3180d-a965-40db-86df-cf43e79b4bea"
      },
      "outputs": [
        {
          "data": {
            "text/html": [
              "<div>\n",
              "<style scoped>\n",
              "    .dataframe tbody tr th:only-of-type {\n",
              "        vertical-align: middle;\n",
              "    }\n",
              "\n",
              "    .dataframe tbody tr th {\n",
              "        vertical-align: top;\n",
              "    }\n",
              "\n",
              "    .dataframe thead th {\n",
              "        text-align: right;\n",
              "    }\n",
              "</style>\n",
              "<table border=\"1\" class=\"dataframe\">\n",
              "  <thead>\n",
              "    <tr style=\"text-align: right;\">\n",
              "      <th></th>\n",
              "      <th>ID</th>\n",
              "      <th>Name</th>\n",
              "      <th>Sex</th>\n",
              "      <th>Age</th>\n",
              "      <th>Height</th>\n",
              "      <th>Weight</th>\n",
              "      <th>Team</th>\n",
              "      <th>NOC</th>\n",
              "      <th>Games</th>\n",
              "      <th>Year</th>\n",
              "      <th>Season</th>\n",
              "      <th>City</th>\n",
              "      <th>Sport</th>\n",
              "      <th>Event</th>\n",
              "      <th>Medal</th>\n",
              "    </tr>\n",
              "  </thead>\n",
              "  <tbody>\n",
              "    <tr>\n",
              "      <th>192</th>\n",
              "      <td>87</td>\n",
              "      <td>Rost'om Omeris dze Abashidze</td>\n",
              "      <td>M</td>\n",
              "      <td>29.0</td>\n",
              "      <td>188.0</td>\n",
              "      <td>97.0</td>\n",
              "      <td>Soviet Union</td>\n",
              "      <td>URS</td>\n",
              "      <td>1964 Summer</td>\n",
              "      <td>1964</td>\n",
              "      <td>Summer</td>\n",
              "      <td>Tokyo</td>\n",
              "      <td>Wrestling</td>\n",
              "      <td>Wrestling Men's Light-Heavyweight, Greco-Roman</td>\n",
              "      <td>NaN</td>\n",
              "    </tr>\n",
              "    <tr>\n",
              "      <th>193</th>\n",
              "      <td>88</td>\n",
              "      <td>Nunu Dzhansuhivna Abashydze (-Myslaieva)</td>\n",
              "      <td>F</td>\n",
              "      <td>25.0</td>\n",
              "      <td>168.0</td>\n",
              "      <td>105.0</td>\n",
              "      <td>Soviet Union</td>\n",
              "      <td>URS</td>\n",
              "      <td>1980 Summer</td>\n",
              "      <td>1980</td>\n",
              "      <td>Summer</td>\n",
              "      <td>Moskva</td>\n",
              "      <td>Athletics</td>\n",
              "      <td>Athletics Women's Shot Put</td>\n",
              "      <td>NaN</td>\n",
              "    </tr>\n",
              "    <tr>\n",
              "      <th>550</th>\n",
              "      <td>316</td>\n",
              "      <td>Zagalav Abdulbekovich Abdulbekov</td>\n",
              "      <td>M</td>\n",
              "      <td>26.0</td>\n",
              "      <td>160.0</td>\n",
              "      <td>62.0</td>\n",
              "      <td>Soviet Union</td>\n",
              "      <td>URS</td>\n",
              "      <td>1972 Summer</td>\n",
              "      <td>1972</td>\n",
              "      <td>Summer</td>\n",
              "      <td>Munich</td>\n",
              "      <td>Wrestling</td>\n",
              "      <td>Wrestling Men's Featherweight, Freestyle</td>\n",
              "      <td>Gold</td>\n",
              "    </tr>\n",
              "    <tr>\n",
              "      <th>622</th>\n",
              "      <td>360</td>\n",
              "      <td>Dzhamolidin Mirgarifanovich Abduzhaparov</td>\n",
              "      <td>M</td>\n",
              "      <td>24.0</td>\n",
              "      <td>174.0</td>\n",
              "      <td>72.0</td>\n",
              "      <td>Soviet Union</td>\n",
              "      <td>URS</td>\n",
              "      <td>1988 Summer</td>\n",
              "      <td>1988</td>\n",
              "      <td>Summer</td>\n",
              "      <td>Seoul</td>\n",
              "      <td>Cycling</td>\n",
              "      <td>Cycling Men's Road Race, Individual</td>\n",
              "      <td>NaN</td>\n",
              "    </tr>\n",
              "    <tr>\n",
              "      <th>802</th>\n",
              "      <td>460</td>\n",
              "      <td>Viktor Andreyevich Aboimov</td>\n",
              "      <td>M</td>\n",
              "      <td>22.0</td>\n",
              "      <td>190.0</td>\n",
              "      <td>78.0</td>\n",
              "      <td>Soviet Union</td>\n",
              "      <td>URS</td>\n",
              "      <td>1972 Summer</td>\n",
              "      <td>1972</td>\n",
              "      <td>Summer</td>\n",
              "      <td>Munich</td>\n",
              "      <td>Swimming</td>\n",
              "      <td>Swimming Men's 400 metres Freestyle</td>\n",
              "      <td>NaN</td>\n",
              "    </tr>\n",
              "    <tr>\n",
              "      <th>...</th>\n",
              "      <td>...</td>\n",
              "      <td>...</td>\n",
              "      <td>...</td>\n",
              "      <td>...</td>\n",
              "      <td>...</td>\n",
              "      <td>...</td>\n",
              "      <td>...</td>\n",
              "      <td>...</td>\n",
              "      <td>...</td>\n",
              "      <td>...</td>\n",
              "      <td>...</td>\n",
              "      <td>...</td>\n",
              "      <td>...</td>\n",
              "      <td>...</td>\n",
              "      <td>...</td>\n",
              "    </tr>\n",
              "    <tr>\n",
              "      <th>271076</th>\n",
              "      <td>135553</td>\n",
              "      <td>Galina Ivanovna Zybina (-Fyodorova)</td>\n",
              "      <td>F</td>\n",
              "      <td>21.0</td>\n",
              "      <td>168.0</td>\n",
              "      <td>80.0</td>\n",
              "      <td>Soviet Union</td>\n",
              "      <td>URS</td>\n",
              "      <td>1952 Summer</td>\n",
              "      <td>1952</td>\n",
              "      <td>Summer</td>\n",
              "      <td>Helsinki</td>\n",
              "      <td>Athletics</td>\n",
              "      <td>Athletics Women's Shot Put</td>\n",
              "      <td>Gold</td>\n",
              "    </tr>\n",
              "    <tr>\n",
              "      <th>271077</th>\n",
              "      <td>135553</td>\n",
              "      <td>Galina Ivanovna Zybina (-Fyodorova)</td>\n",
              "      <td>F</td>\n",
              "      <td>21.0</td>\n",
              "      <td>168.0</td>\n",
              "      <td>80.0</td>\n",
              "      <td>Soviet Union</td>\n",
              "      <td>URS</td>\n",
              "      <td>1952 Summer</td>\n",
              "      <td>1952</td>\n",
              "      <td>Summer</td>\n",
              "      <td>Helsinki</td>\n",
              "      <td>Athletics</td>\n",
              "      <td>Athletics Women's Javelin Throw</td>\n",
              "      <td>NaN</td>\n",
              "    </tr>\n",
              "    <tr>\n",
              "      <th>271078</th>\n",
              "      <td>135553</td>\n",
              "      <td>Galina Ivanovna Zybina (-Fyodorova)</td>\n",
              "      <td>F</td>\n",
              "      <td>25.0</td>\n",
              "      <td>168.0</td>\n",
              "      <td>80.0</td>\n",
              "      <td>Soviet Union</td>\n",
              "      <td>URS</td>\n",
              "      <td>1956 Summer</td>\n",
              "      <td>1956</td>\n",
              "      <td>Summer</td>\n",
              "      <td>Melbourne</td>\n",
              "      <td>Athletics</td>\n",
              "      <td>Athletics Women's Shot Put</td>\n",
              "      <td>Silver</td>\n",
              "    </tr>\n",
              "    <tr>\n",
              "      <th>271079</th>\n",
              "      <td>135553</td>\n",
              "      <td>Galina Ivanovna Zybina (-Fyodorova)</td>\n",
              "      <td>F</td>\n",
              "      <td>29.0</td>\n",
              "      <td>168.0</td>\n",
              "      <td>80.0</td>\n",
              "      <td>Soviet Union</td>\n",
              "      <td>URS</td>\n",
              "      <td>1960 Summer</td>\n",
              "      <td>1960</td>\n",
              "      <td>Summer</td>\n",
              "      <td>Roma</td>\n",
              "      <td>Athletics</td>\n",
              "      <td>Athletics Women's Shot Put</td>\n",
              "      <td>NaN</td>\n",
              "    </tr>\n",
              "    <tr>\n",
              "      <th>271080</th>\n",
              "      <td>135553</td>\n",
              "      <td>Galina Ivanovna Zybina (-Fyodorova)</td>\n",
              "      <td>F</td>\n",
              "      <td>33.0</td>\n",
              "      <td>168.0</td>\n",
              "      <td>80.0</td>\n",
              "      <td>Soviet Union</td>\n",
              "      <td>URS</td>\n",
              "      <td>1964 Summer</td>\n",
              "      <td>1964</td>\n",
              "      <td>Summer</td>\n",
              "      <td>Tokyo</td>\n",
              "      <td>Athletics</td>\n",
              "      <td>Athletics Women's Shot Put</td>\n",
              "      <td>Bronze</td>\n",
              "    </tr>\n",
              "  </tbody>\n",
              "</table>\n",
              "<p>5685 rows × 15 columns</p>\n",
              "</div>"
            ],
            "text/plain": [
              "            ID                                      Name Sex   Age  Height  \\\n",
              "192         87              Rost'om Omeris dze Abashidze   M  29.0   188.0   \n",
              "193         88  Nunu Dzhansuhivna Abashydze (-Myslaieva)   F  25.0   168.0   \n",
              "550        316          Zagalav Abdulbekovich Abdulbekov   M  26.0   160.0   \n",
              "622        360  Dzhamolidin Mirgarifanovich Abduzhaparov   M  24.0   174.0   \n",
              "802        460                Viktor Andreyevich Aboimov   M  22.0   190.0   \n",
              "...        ...                                       ...  ..   ...     ...   \n",
              "271076  135553       Galina Ivanovna Zybina (-Fyodorova)   F  21.0   168.0   \n",
              "271077  135553       Galina Ivanovna Zybina (-Fyodorova)   F  21.0   168.0   \n",
              "271078  135553       Galina Ivanovna Zybina (-Fyodorova)   F  25.0   168.0   \n",
              "271079  135553       Galina Ivanovna Zybina (-Fyodorova)   F  29.0   168.0   \n",
              "271080  135553       Galina Ivanovna Zybina (-Fyodorova)   F  33.0   168.0   \n",
              "\n",
              "        Weight          Team  NOC        Games  Year  Season       City  \\\n",
              "192       97.0  Soviet Union  URS  1964 Summer  1964  Summer      Tokyo   \n",
              "193      105.0  Soviet Union  URS  1980 Summer  1980  Summer     Moskva   \n",
              "550       62.0  Soviet Union  URS  1972 Summer  1972  Summer     Munich   \n",
              "622       72.0  Soviet Union  URS  1988 Summer  1988  Summer      Seoul   \n",
              "802       78.0  Soviet Union  URS  1972 Summer  1972  Summer     Munich   \n",
              "...        ...           ...  ...          ...   ...     ...        ...   \n",
              "271076    80.0  Soviet Union  URS  1952 Summer  1952  Summer   Helsinki   \n",
              "271077    80.0  Soviet Union  URS  1952 Summer  1952  Summer   Helsinki   \n",
              "271078    80.0  Soviet Union  URS  1956 Summer  1956  Summer  Melbourne   \n",
              "271079    80.0  Soviet Union  URS  1960 Summer  1960  Summer       Roma   \n",
              "271080    80.0  Soviet Union  URS  1964 Summer  1964  Summer      Tokyo   \n",
              "\n",
              "            Sport                                           Event   Medal  \n",
              "192     Wrestling  Wrestling Men's Light-Heavyweight, Greco-Roman     NaN  \n",
              "193     Athletics                      Athletics Women's Shot Put     NaN  \n",
              "550     Wrestling        Wrestling Men's Featherweight, Freestyle    Gold  \n",
              "622       Cycling             Cycling Men's Road Race, Individual     NaN  \n",
              "802      Swimming             Swimming Men's 400 metres Freestyle     NaN  \n",
              "...           ...                                             ...     ...  \n",
              "271076  Athletics                      Athletics Women's Shot Put    Gold  \n",
              "271077  Athletics                 Athletics Women's Javelin Throw     NaN  \n",
              "271078  Athletics                      Athletics Women's Shot Put  Silver  \n",
              "271079  Athletics                      Athletics Women's Shot Put     NaN  \n",
              "271080  Athletics                      Athletics Women's Shot Put  Bronze  \n",
              "\n",
              "[5685 rows x 15 columns]"
            ]
          },
          "execution_count": 3,
          "metadata": {},
          "output_type": "execute_result"
        }
      ],
      "source": [
        "df[df[\"NOC\"] == \"URS\"]"
      ]
    },
    {
      "cell_type": "code",
      "execution_count": null,
      "id": "56153fe4",
      "metadata": {
        "scrolled": true,
        "id": "56153fe4",
        "outputId": "ce2a0e83-cec8-4883-d093-1d14e55b9628"
      },
      "outputs": [
        {
          "data": {
            "text/plain": [
              "NOC\n",
              "USA    18853\n",
              "FRA    12758\n",
              "GBR    12256\n",
              "ITA    10715\n",
              "GER     9830\n",
              "       ...  \n",
              "YMD        5\n",
              "SSD        3\n",
              "UNK        2\n",
              "NBO        2\n",
              "NFL        1\n",
              "Name: count, Length: 230, dtype: int64"
            ]
          },
          "execution_count": 4,
          "metadata": {},
          "output_type": "execute_result"
        }
      ],
      "source": [
        "df[\"NOC\"].value_counts()"
      ]
    },
    {
      "cell_type": "code",
      "execution_count": null,
      "id": "e28daa6b",
      "metadata": {
        "id": "e28daa6b",
        "outputId": "4df94322-78cf-430b-afe2-c58df5dbb68f"
      },
      "outputs": [
        {
          "data": {
            "text/plain": [
              "Team\n",
              "United States    17847\n",
              "France           11988\n",
              "Great Britain    11404\n",
              "Italy            10260\n",
              "Germany           9326\n",
              "                 ...  \n",
              "Briar                1\n",
              "Hannover             1\n",
              "Nan-2                1\n",
              "Brentina             1\n",
              "Digby                1\n",
              "Name: count, Length: 1184, dtype: int64"
            ]
          },
          "execution_count": 5,
          "metadata": {},
          "output_type": "execute_result"
        }
      ],
      "source": [
        "df[\"Team\"].value_counts()"
      ]
    },
    {
      "cell_type": "code",
      "execution_count": null,
      "id": "adb8743b",
      "metadata": {
        "id": "adb8743b",
        "outputId": "f407e579-ea40-463d-9c9b-8716528462af"
      },
      "outputs": [
        {
          "name": "stderr",
          "output_type": "stream",
          "text": [
            "/var/folders/41/33w5vnfj1f3d5c6lb1fn3brc0000gn/T/ipykernel_30493/3792773740.py:3: SettingWithCopyWarning: \n",
            "A value is trying to be set on a copy of a slice from a DataFrame\n",
            "\n",
            "See the caveats in the documentation: https://pandas.pydata.org/pandas-docs/stable/user_guide/indexing.html#returning-a-view-versus-a-copy\n",
            "  subset['Medal'].fillna('No Medal', inplace=True)\n",
            "/var/folders/41/33w5vnfj1f3d5c6lb1fn3brc0000gn/T/ipykernel_30493/3792773740.py:7: SettingWithCopyWarning: \n",
            "A value is trying to be set on a copy of a slice from a DataFrame.\n",
            "Try using .loc[row_indexer,col_indexer] = value instead\n",
            "\n",
            "See the caveats in the documentation: https://pandas.pydata.org/pandas-docs/stable/user_guide/indexing.html#returning-a-view-versus-a-copy\n",
            "  subset['Medal'] = subset['Medal'].apply(lambda x: 0 if x == 'No Medal' else 1)\n",
            "/var/folders/41/33w5vnfj1f3d5c6lb1fn3brc0000gn/T/ipykernel_30493/3792773740.py:10: SettingWithCopyWarning: \n",
            "A value is trying to be set on a copy of a slice from a DataFrame.\n",
            "Try using .loc[row_indexer,col_indexer] = value instead\n",
            "\n",
            "See the caveats in the documentation: https://pandas.pydata.org/pandas-docs/stable/user_guide/indexing.html#returning-a-view-versus-a-copy\n",
            "  subset['Sex'] = subset['Sex'].apply(lambda x: 0 if x == 'Male' else 1)\n"
          ]
        },
        {
          "data": {
            "text/html": [
              "<div>\n",
              "<style scoped>\n",
              "    .dataframe tbody tr th:only-of-type {\n",
              "        vertical-align: middle;\n",
              "    }\n",
              "\n",
              "    .dataframe tbody tr th {\n",
              "        vertical-align: top;\n",
              "    }\n",
              "\n",
              "    .dataframe thead th {\n",
              "        text-align: right;\n",
              "    }\n",
              "</style>\n",
              "<table border=\"1\" class=\"dataframe\">\n",
              "  <thead>\n",
              "    <tr style=\"text-align: right;\">\n",
              "      <th></th>\n",
              "      <th>Sex</th>\n",
              "      <th>Age</th>\n",
              "      <th>Height</th>\n",
              "      <th>Weight</th>\n",
              "      <th>NOC</th>\n",
              "      <th>Year</th>\n",
              "      <th>Sport</th>\n",
              "      <th>Event</th>\n",
              "      <th>Medal</th>\n",
              "    </tr>\n",
              "  </thead>\n",
              "  <tbody>\n",
              "    <tr>\n",
              "      <th>0</th>\n",
              "      <td>1</td>\n",
              "      <td>24.0</td>\n",
              "      <td>180.0</td>\n",
              "      <td>80.0</td>\n",
              "      <td>CHN</td>\n",
              "      <td>1992</td>\n",
              "      <td>Basketball</td>\n",
              "      <td>Basketball Men's Basketball</td>\n",
              "      <td>0</td>\n",
              "    </tr>\n",
              "    <tr>\n",
              "      <th>1</th>\n",
              "      <td>1</td>\n",
              "      <td>23.0</td>\n",
              "      <td>170.0</td>\n",
              "      <td>60.0</td>\n",
              "      <td>CHN</td>\n",
              "      <td>2012</td>\n",
              "      <td>Judo</td>\n",
              "      <td>Judo Men's Extra-Lightweight</td>\n",
              "      <td>0</td>\n",
              "    </tr>\n",
              "    <tr>\n",
              "      <th>2</th>\n",
              "      <td>1</td>\n",
              "      <td>24.0</td>\n",
              "      <td>NaN</td>\n",
              "      <td>NaN</td>\n",
              "      <td>DEN</td>\n",
              "      <td>1920</td>\n",
              "      <td>Football</td>\n",
              "      <td>Football Men's Football</td>\n",
              "      <td>0</td>\n",
              "    </tr>\n",
              "    <tr>\n",
              "      <th>3</th>\n",
              "      <td>1</td>\n",
              "      <td>34.0</td>\n",
              "      <td>NaN</td>\n",
              "      <td>NaN</td>\n",
              "      <td>DEN</td>\n",
              "      <td>1900</td>\n",
              "      <td>Tug-Of-War</td>\n",
              "      <td>Tug-Of-War Men's Tug-Of-War</td>\n",
              "      <td>1</td>\n",
              "    </tr>\n",
              "    <tr>\n",
              "      <th>4</th>\n",
              "      <td>1</td>\n",
              "      <td>21.0</td>\n",
              "      <td>185.0</td>\n",
              "      <td>82.0</td>\n",
              "      <td>NED</td>\n",
              "      <td>1988</td>\n",
              "      <td>Speed Skating</td>\n",
              "      <td>Speed Skating Women's 500 metres</td>\n",
              "      <td>0</td>\n",
              "    </tr>\n",
              "  </tbody>\n",
              "</table>\n",
              "</div>"
            ],
            "text/plain": [
              "   Sex   Age  Height  Weight  NOC  Year          Sport  \\\n",
              "0    1  24.0   180.0    80.0  CHN  1992     Basketball   \n",
              "1    1  23.0   170.0    60.0  CHN  2012           Judo   \n",
              "2    1  24.0     NaN     NaN  DEN  1920       Football   \n",
              "3    1  34.0     NaN     NaN  DEN  1900     Tug-Of-War   \n",
              "4    1  21.0   185.0    82.0  NED  1988  Speed Skating   \n",
              "\n",
              "                              Event  Medal  \n",
              "0       Basketball Men's Basketball      0  \n",
              "1      Judo Men's Extra-Lightweight      0  \n",
              "2           Football Men's Football      0  \n",
              "3       Tug-Of-War Men's Tug-Of-War      1  \n",
              "4  Speed Skating Women's 500 metres      0  "
            ]
          },
          "execution_count": 6,
          "metadata": {},
          "output_type": "execute_result"
        }
      ],
      "source": [
        "#subsetting\n",
        "subset = df[['Sex', 'Age', 'Height', 'Weight', 'NOC', 'Year', 'Sport', 'Event', 'Medal']]\n",
        "subset['Medal'].fillna('No Medal', inplace=True)\n",
        "\n",
        "\n",
        "#Medal is 0 if they did not get a medal, 1 if they got bronze, silver, or gold\n",
        "subset['Medal'] = subset['Medal'].apply(lambda x: 0 if x == 'No Medal' else 1)\n",
        "\n",
        "#Sex is 0 if male, 1 if female\n",
        "subset['Sex'] = subset['Sex'].apply(lambda x: 0 if x == 'Male' else 1)\n",
        "\n",
        "subset.head()"
      ]
    },
    {
      "cell_type": "code",
      "execution_count": null,
      "id": "ab77fafd",
      "metadata": {
        "id": "ab77fafd"
      },
      "outputs": [],
      "source": []
    },
    {
      "cell_type": "code",
      "execution_count": null,
      "id": "95bc4870",
      "metadata": {
        "id": "95bc4870",
        "outputId": "9754c1ef-ddff-4141-b5c8-000f64678d01"
      },
      "outputs": [
        {
          "data": {
            "text/plain": [
              "NOC\n",
              "USA    18853\n",
              "FRA    12758\n",
              "GBR    12256\n",
              "ITA    10715\n",
              "GER     9830\n",
              "       ...  \n",
              "YMD        5\n",
              "SSD        3\n",
              "UNK        2\n",
              "NBO        2\n",
              "NFL        1\n",
              "Name: count, Length: 230, dtype: int64"
            ]
          },
          "execution_count": 7,
          "metadata": {},
          "output_type": "execute_result"
        }
      ],
      "source": [
        "#subset[subset[\"Sport\"] == \"Athletics\"][\"Event\"].value_counts()\n",
        "subset[\"NOC\"].value_counts()"
      ]
    },
    {
      "cell_type": "code",
      "execution_count": null,
      "id": "5117a0c2",
      "metadata": {
        "id": "5117a0c2",
        "outputId": "ae8f8c3b-8864-47e2-ab01-49d4fb108874"
      },
      "outputs": [
        {
          "name": "stdout",
          "output_type": "stream",
          "text": [
            "765\n",
            "66\n"
          ]
        }
      ],
      "source": [
        "print(subset[\"Event\"].nunique())\n",
        "print(subset[\"Sport\"].nunique())"
      ]
    },
    {
      "cell_type": "code",
      "execution_count": null,
      "id": "bb113f5f",
      "metadata": {
        "id": "bb113f5f",
        "outputId": "2ea14a48-eb21-42a7-ad7c-1fe5dbf504e2"
      },
      "outputs": [
        {
          "name": "stdout",
          "output_type": "stream",
          "text": [
            "(206165, 9)\n"
          ]
        },
        {
          "data": {
            "text/plain": [
              "Medal\n",
              "0    175984\n",
              "1     30181\n",
              "Name: count, dtype: int64"
            ]
          },
          "execution_count": 9,
          "metadata": {},
          "output_type": "execute_result"
        }
      ],
      "source": [
        "#cleaning and renaming non medalists\n",
        "subset = subset.dropna()\n",
        "print(subset.shape)\n",
        "\n",
        "\n",
        "subset[\"Medal\"].value_counts()"
      ]
    },
    {
      "cell_type": "code",
      "execution_count": null,
      "id": "3223456e",
      "metadata": {
        "id": "3223456e",
        "outputId": "9d2cf557-3d39-4958-caa0-33fff69c8f45"
      },
      "outputs": [
        {
          "data": {
            "text/html": [
              "<div>\n",
              "<style scoped>\n",
              "    .dataframe tbody tr th:only-of-type {\n",
              "        vertical-align: middle;\n",
              "    }\n",
              "\n",
              "    .dataframe tbody tr th {\n",
              "        vertical-align: top;\n",
              "    }\n",
              "\n",
              "    .dataframe thead th {\n",
              "        text-align: right;\n",
              "    }\n",
              "</style>\n",
              "<table border=\"1\" class=\"dataframe\">\n",
              "  <thead>\n",
              "    <tr style=\"text-align: right;\">\n",
              "      <th></th>\n",
              "      <th>Sex</th>\n",
              "      <th>Age</th>\n",
              "      <th>Height</th>\n",
              "      <th>Weight</th>\n",
              "      <th>NOC</th>\n",
              "      <th>Year</th>\n",
              "      <th>Sport</th>\n",
              "      <th>Event</th>\n",
              "      <th>Medal</th>\n",
              "    </tr>\n",
              "  </thead>\n",
              "  <tbody>\n",
              "    <tr>\n",
              "      <th>0</th>\n",
              "      <td>1</td>\n",
              "      <td>24.0</td>\n",
              "      <td>180.0</td>\n",
              "      <td>80.0</td>\n",
              "      <td>CHN</td>\n",
              "      <td>1992</td>\n",
              "      <td>Basketball</td>\n",
              "      <td>Basketball Men's Basketball</td>\n",
              "      <td>0</td>\n",
              "    </tr>\n",
              "    <tr>\n",
              "      <th>1</th>\n",
              "      <td>1</td>\n",
              "      <td>23.0</td>\n",
              "      <td>170.0</td>\n",
              "      <td>60.0</td>\n",
              "      <td>CHN</td>\n",
              "      <td>2012</td>\n",
              "      <td>Judo</td>\n",
              "      <td>Judo Men's Extra-Lightweight</td>\n",
              "      <td>0</td>\n",
              "    </tr>\n",
              "    <tr>\n",
              "      <th>4</th>\n",
              "      <td>1</td>\n",
              "      <td>21.0</td>\n",
              "      <td>185.0</td>\n",
              "      <td>82.0</td>\n",
              "      <td>NED</td>\n",
              "      <td>1988</td>\n",
              "      <td>Speed Skating</td>\n",
              "      <td>Speed Skating Women's 500 metres</td>\n",
              "      <td>0</td>\n",
              "    </tr>\n",
              "    <tr>\n",
              "      <th>5</th>\n",
              "      <td>1</td>\n",
              "      <td>21.0</td>\n",
              "      <td>185.0</td>\n",
              "      <td>82.0</td>\n",
              "      <td>NED</td>\n",
              "      <td>1988</td>\n",
              "      <td>Speed Skating</td>\n",
              "      <td>Speed Skating Women's 1,000 metres</td>\n",
              "      <td>0</td>\n",
              "    </tr>\n",
              "    <tr>\n",
              "      <th>6</th>\n",
              "      <td>1</td>\n",
              "      <td>25.0</td>\n",
              "      <td>185.0</td>\n",
              "      <td>82.0</td>\n",
              "      <td>NED</td>\n",
              "      <td>1992</td>\n",
              "      <td>Speed Skating</td>\n",
              "      <td>Speed Skating Women's 500 metres</td>\n",
              "      <td>0</td>\n",
              "    </tr>\n",
              "    <tr>\n",
              "      <th>...</th>\n",
              "      <td>...</td>\n",
              "      <td>...</td>\n",
              "      <td>...</td>\n",
              "      <td>...</td>\n",
              "      <td>...</td>\n",
              "      <td>...</td>\n",
              "      <td>...</td>\n",
              "      <td>...</td>\n",
              "      <td>...</td>\n",
              "    </tr>\n",
              "    <tr>\n",
              "      <th>271111</th>\n",
              "      <td>1</td>\n",
              "      <td>29.0</td>\n",
              "      <td>179.0</td>\n",
              "      <td>89.0</td>\n",
              "      <td>POL</td>\n",
              "      <td>1976</td>\n",
              "      <td>Luge</td>\n",
              "      <td>Luge Mixed (Men)'s Doubles</td>\n",
              "      <td>0</td>\n",
              "    </tr>\n",
              "    <tr>\n",
              "      <th>271112</th>\n",
              "      <td>1</td>\n",
              "      <td>27.0</td>\n",
              "      <td>176.0</td>\n",
              "      <td>59.0</td>\n",
              "      <td>POL</td>\n",
              "      <td>2014</td>\n",
              "      <td>Ski Jumping</td>\n",
              "      <td>Ski Jumping Men's Large Hill, Individual</td>\n",
              "      <td>0</td>\n",
              "    </tr>\n",
              "    <tr>\n",
              "      <th>271113</th>\n",
              "      <td>1</td>\n",
              "      <td>27.0</td>\n",
              "      <td>176.0</td>\n",
              "      <td>59.0</td>\n",
              "      <td>POL</td>\n",
              "      <td>2014</td>\n",
              "      <td>Ski Jumping</td>\n",
              "      <td>Ski Jumping Men's Large Hill, Team</td>\n",
              "      <td>0</td>\n",
              "    </tr>\n",
              "    <tr>\n",
              "      <th>271114</th>\n",
              "      <td>1</td>\n",
              "      <td>30.0</td>\n",
              "      <td>185.0</td>\n",
              "      <td>96.0</td>\n",
              "      <td>POL</td>\n",
              "      <td>1998</td>\n",
              "      <td>Bobsleigh</td>\n",
              "      <td>Bobsleigh Men's Four</td>\n",
              "      <td>0</td>\n",
              "    </tr>\n",
              "    <tr>\n",
              "      <th>271115</th>\n",
              "      <td>1</td>\n",
              "      <td>34.0</td>\n",
              "      <td>185.0</td>\n",
              "      <td>96.0</td>\n",
              "      <td>POL</td>\n",
              "      <td>2002</td>\n",
              "      <td>Bobsleigh</td>\n",
              "      <td>Bobsleigh Men's Four</td>\n",
              "      <td>0</td>\n",
              "    </tr>\n",
              "  </tbody>\n",
              "</table>\n",
              "<p>206165 rows × 9 columns</p>\n",
              "</div>"
            ],
            "text/plain": [
              "        Sex   Age  Height  Weight  NOC  Year          Sport  \\\n",
              "0         1  24.0   180.0    80.0  CHN  1992     Basketball   \n",
              "1         1  23.0   170.0    60.0  CHN  2012           Judo   \n",
              "4         1  21.0   185.0    82.0  NED  1988  Speed Skating   \n",
              "5         1  21.0   185.0    82.0  NED  1988  Speed Skating   \n",
              "6         1  25.0   185.0    82.0  NED  1992  Speed Skating   \n",
              "...     ...   ...     ...     ...  ...   ...            ...   \n",
              "271111    1  29.0   179.0    89.0  POL  1976           Luge   \n",
              "271112    1  27.0   176.0    59.0  POL  2014    Ski Jumping   \n",
              "271113    1  27.0   176.0    59.0  POL  2014    Ski Jumping   \n",
              "271114    1  30.0   185.0    96.0  POL  1998      Bobsleigh   \n",
              "271115    1  34.0   185.0    96.0  POL  2002      Bobsleigh   \n",
              "\n",
              "                                           Event  Medal  \n",
              "0                    Basketball Men's Basketball      0  \n",
              "1                   Judo Men's Extra-Lightweight      0  \n",
              "4               Speed Skating Women's 500 metres      0  \n",
              "5             Speed Skating Women's 1,000 metres      0  \n",
              "6               Speed Skating Women's 500 metres      0  \n",
              "...                                          ...    ...  \n",
              "271111                Luge Mixed (Men)'s Doubles      0  \n",
              "271112  Ski Jumping Men's Large Hill, Individual      0  \n",
              "271113        Ski Jumping Men's Large Hill, Team      0  \n",
              "271114                      Bobsleigh Men's Four      0  \n",
              "271115                      Bobsleigh Men's Four      0  \n",
              "\n",
              "[206165 rows x 9 columns]"
            ]
          },
          "execution_count": 10,
          "metadata": {},
          "output_type": "execute_result"
        }
      ],
      "source": [
        "subset"
      ]
    },
    {
      "cell_type": "code",
      "execution_count": null,
      "id": "807ed6c9",
      "metadata": {
        "id": "807ed6c9"
      },
      "outputs": [],
      "source": [
        "def reduce_no_medal(df, n):\n",
        "    no_medals = df[df['Medal'] == 0]\n",
        "    won_medals = df[df['Medal'] == 1]\n",
        "\n",
        "    no_medal_sample = no_medals.sample(n=n, random_state=42)\n",
        "\n",
        "    reduced_df = pd.concat([no_medal_sample, won_medals])\n",
        "\n",
        "    #shuffle the data, not sure if needed\n",
        "    reduced_df = reduced_df.sample(frac=1, random_state=42).reset_index(drop=True)\n",
        "\n",
        "    return reduced_df\n",
        "\n",
        "# n_samples = 10000\n",
        "# balanced_df = reduce_no_medal(subset, n_samples)\n",
        "\n",
        "# balanced_df[\"Medal\"].value_counts()"
      ]
    },
    {
      "cell_type": "code",
      "execution_count": null,
      "id": "80df1e46",
      "metadata": {
        "id": "80df1e46"
      },
      "outputs": [],
      "source": [
        "balanced_df = subset"
      ]
    },
    {
      "cell_type": "code",
      "execution_count": null,
      "id": "b3a60b58",
      "metadata": {
        "id": "b3a60b58"
      },
      "outputs": [],
      "source": []
    },
    {
      "cell_type": "code",
      "execution_count": null,
      "id": "7c0ce558",
      "metadata": {
        "id": "7c0ce558"
      },
      "outputs": [],
      "source": []
    },
    {
      "cell_type": "code",
      "execution_count": null,
      "id": "1d252dc5",
      "metadata": {
        "id": "1d252dc5"
      },
      "outputs": [],
      "source": [
        "temp = balanced_df"
      ]
    },
    {
      "cell_type": "code",
      "execution_count": null,
      "id": "85d7325a",
      "metadata": {
        "id": "85d7325a",
        "outputId": "326aecf9-df65-422b-cc70-a3ee6bc66886"
      },
      "outputs": [
        {
          "data": {
            "text/plain": [
              "Medal\n",
              "0    175984\n",
              "1     30181\n",
              "Name: count, dtype: int64"
            ]
          },
          "execution_count": 14,
          "metadata": {},
          "output_type": "execute_result"
        }
      ],
      "source": [
        "temp[\"Medal\"].value_counts()"
      ]
    },
    {
      "cell_type": "code",
      "execution_count": null,
      "id": "60648c8a",
      "metadata": {
        "id": "60648c8a",
        "outputId": "625318bc-bdf3-429c-b247-89c655577d67"
      },
      "outputs": [
        {
          "data": {
            "text/plain": [
              "Event\n",
              "Ice Hockey Men's Ice Hockey                                3825\n",
              "Football Men's Football                                    3459\n",
              "Hockey Men's Hockey                                        2874\n",
              "Basketball Men's Basketball                                2461\n",
              "Water Polo Men's Water Polo                                2231\n",
              "                                                           ... \n",
              "Art Competitions Mixed Sculpturing, Unknown Event             1\n",
              "Motorboating Mixed A-Class (Open)                             1\n",
              "Shooting Men's Military Rifle, Any Position, 600 metres       1\n",
              "Swimming Men's 220 yard Freestyle                             1\n",
              "Tennis Men's Singles, Covered Courts                          1\n",
              "Name: count, Length: 590, dtype: int64"
            ]
          },
          "execution_count": 15,
          "metadata": {},
          "output_type": "execute_result"
        }
      ],
      "source": [
        "temp[\"Event\"].value_counts()"
      ]
    },
    {
      "cell_type": "code",
      "execution_count": null,
      "id": "bc951bae",
      "metadata": {
        "id": "bc951bae",
        "outputId": "ea2d06ce-fd83-4c8d-a268-f50ff3a5ed85"
      },
      "outputs": [
        {
          "data": {
            "text/plain": [
              "(107065, 9)"
            ]
          },
          "execution_count": 16,
          "metadata": {},
          "output_type": "execute_result"
        }
      ],
      "source": [
        "medal_1_df = temp[temp['Medal'] == 1]\n",
        "\n",
        "# Step 2: Group by Sport and count the occurrences\n",
        "#sport_counts = medal_1_df['Sport'].value_counts()\n",
        "sport_counts = medal_1_df['Event'].value_counts()\n",
        "\n",
        "# Step 3: Filter to get sports with more than 20 entries\n",
        "sports_with_more_than_20 = sport_counts[sport_counts > 50].index.tolist()\n",
        "\n",
        "#temp_subset = temp[temp['Sport'].isin(sports_with_more_than_20)]\n",
        "temp_subset = temp[temp['Event'].isin(sports_with_more_than_20)]\n",
        "\n",
        "# Display the subset DataFrame\n",
        "temp_subset.shape"
      ]
    },
    {
      "cell_type": "code",
      "execution_count": null,
      "id": "2b94792d",
      "metadata": {
        "id": "2b94792d",
        "outputId": "ed4314b7-432c-4f21-d154-6658de35e808"
      },
      "outputs": [
        {
          "data": {
            "text/plain": [
              "[\"Ice Hockey Men's Ice Hockey\",\n",
              " \"Football Men's Football\",\n",
              " \"Hockey Men's Hockey\",\n",
              " \"Basketball Men's Basketball\",\n",
              " \"Water Polo Men's Water Polo\",\n",
              " \"Handball Men's Handball\",\n",
              " \"Volleyball Men's Volleyball\",\n",
              " \"Volleyball Women's Volleyball\",\n",
              " \"Hockey Women's Hockey\",\n",
              " \"Rowing Men's Coxed Eights\",\n",
              " \"Handball Women's Handball\",\n",
              " \"Basketball Women's Basketball\",\n",
              " \"Baseball Men's Baseball\",\n",
              " \"Football Women's Football\",\n",
              " \"Ice Hockey Women's Ice Hockey\",\n",
              " \"Athletics Men's 4 x 400 metres Relay\",\n",
              " \"Gymnastics Men's Team All-Around\",\n",
              " \"Rowing Women's Coxed Eights\",\n",
              " \"Athletics Men's 4 x 100 metres Relay\",\n",
              " \"Swimming Men's 4 x 200 metres Freestyle Relay\",\n",
              " \"Swimming Women's 4 x 100 metres Medley Relay\",\n",
              " \"Swimming Men's 4 x 100 metres Medley Relay\",\n",
              " \"Gymnastics Women's Team All-Around\",\n",
              " \"Swimming Women's 4 x 100 metres Freestyle Relay\",\n",
              " \"Athletics Women's 4 x 100 metres Relay\",\n",
              " \"Fencing Men's Sabre, Team\",\n",
              " \"Fencing Men's epee, Team\",\n",
              " \"Cycling Men's Team Pursuit, 4,000 metres\",\n",
              " \"Fencing Men's Foil, Team\",\n",
              " \"Swimming Men's 4 x 100 metres Freestyle Relay\",\n",
              " \"Rowing Men's Coxless Fours\",\n",
              " \"Water Polo Women's Water Polo\",\n",
              " \"Cross Country Skiing Men's 4 x 10 kilometres Relay\",\n",
              " \"Athletics Women's 4 x 400 metres Relay\",\n",
              " \"Bobsleigh Men's Four\",\n",
              " 'Equestrianism Mixed Jumping, Team',\n",
              " 'Equestrianism Mixed Three-Day Event, Team',\n",
              " \"Softball Women's Softball\",\n",
              " \"Fencing Women's Foil, Team\",\n",
              " \"Canoeing Men's Kayak Fours, 1,000 metres\",\n",
              " \"Rowing Men's Coxed Fours\",\n",
              " \"Synchronized Swimming Women's Team\",\n",
              " 'Equestrianism Mixed Dressage, Team',\n",
              " \"Biathlon Men's 4 x 7.5 kilometres Relay\",\n",
              " \"Rowing Men's Quadruple Sculls\",\n",
              " \"Cross Country Skiing Women's 4 x 5 kilometres Relay\",\n",
              " 'Sailing Mixed Three Person Keelboat',\n",
              " \"Swimming Women's 4 x 200 metres Freestyle Relay\",\n",
              " \"Canoeing Women's Kayak Fours, 500 metres\",\n",
              " \"Cycling Men's 100 kilometres Team Time Trial\",\n",
              " \"Rowing Men's Double Sculls\",\n",
              " \"Rhythmic Gymnastics Women's Group\",\n",
              " \"Rowing Men's Coxless Pairs\",\n",
              " \"Canoeing Men's Kayak Doubles, 1,000 metres\",\n",
              " \"Rowing Women's Quadruple Sculls\",\n",
              " \"Rowing Men's Coxed Pairs\",\n",
              " \"Ski Jumping Men's Large Hill, Team\",\n",
              " \"Canoeing Men's Canadian Doubles, 1,000 metres\",\n",
              " \"Modern Pentathlon Men's Team\",\n",
              " \"Canoeing Women's Kayak Doubles, 500 metres\",\n",
              " \"Short Track Speed Skating Men's 5,000 metres Relay\",\n",
              " \"Short Track Speed Skating Women's 3,000 metres Relay\",\n",
              " 'Figure Skating Mixed Pairs',\n",
              " \"Bobsleigh Men's Two\",\n",
              " \"Athletics Men's 100 metres\",\n",
              " \"Nordic Combined Men's Team\",\n",
              " \"Luge Mixed (Men)'s Doubles\",\n",
              " \"Athletics Men's High Jump\",\n",
              " 'Sailing Mixed Two Person Keelboat',\n",
              " \"Athletics Men's Discus Throw\",\n",
              " \"Athletics Men's Shot Put\",\n",
              " \"Athletics Men's Pole Vault\",\n",
              " \"Athletics Men's Long Jump\",\n",
              " \"Athletics Men's 200 metres\",\n",
              " \"Athletics Men's 110 metres Hurdles\",\n",
              " \"Athletics Men's Triple Jump\",\n",
              " \"Athletics Men's 1,500 metres\",\n",
              " \"Athletics Men's 400 metres\",\n",
              " \"Athletics Men's 800 metres\",\n",
              " \"Athletics Men's Hammer Throw\",\n",
              " \"Athletics Men's 400 metres Hurdles\",\n",
              " \"Athletics Men's Javelin Throw\",\n",
              " \"Athletics Men's Marathon\",\n",
              " \"Athletics Men's Decathlon\",\n",
              " \"Archery Men's Team\",\n",
              " \"Athletics Men's 5,000 metres\",\n",
              " \"Athletics Men's 10,000 metres\",\n",
              " \"Rowing Men's Lightweight Coxless Fours\",\n",
              " \"Archery Women's Team\",\n",
              " \"Boxing Men's Welterweight\",\n",
              " \"Curling Women's Curling\",\n",
              " \"Rowing Women's Coxless Pairs\",\n",
              " \"Rowing Women's Double Sculls\",\n",
              " \"Curling Men's Curling\",\n",
              " \"Boxing Men's Heavyweight\",\n",
              " \"Rowing Women's Coxed Fours\",\n",
              " \"Athletics Women's 100 metres\",\n",
              " \"Boxing Men's Light-Heavyweight\",\n",
              " \"Athletics Men's 3,000 metres Steeplechase\",\n",
              " \"Boxing Men's Bantamweight\",\n",
              " \"Athletics Women's High Jump\",\n",
              " \"Boxing Men's Flyweight\",\n",
              " \"Boxing Men's Light-Welterweight\",\n",
              " 'Sailing Mixed Multihull',\n",
              " \"Boxing Men's Lightweight\",\n",
              " \"Wrestling Men's Heavyweight, Greco-Roman\",\n",
              " \"Athletics Women's Javelin Throw\",\n",
              " \"Boxing Men's Middleweight\",\n",
              " \"Athletics Women's Discus Throw\",\n",
              " \"Boxing Men's Featherweight\",\n",
              " 'Figure Skating Mixed Ice Dancing',\n",
              " 'Sailing Mixed Two Person Heavyweight Dinghy',\n",
              " \"Wrestling Men's Heavyweight, Freestyle\",\n",
              " \"Wrestling Men's Middleweight, Freestyle\",\n",
              " \"Wrestling Men's Middleweight, Greco-Roman\",\n",
              " \"Wrestling Men's Featherweight, Greco-Roman\",\n",
              " \"Rowing Men's Single Sculls\",\n",
              " \"Swimming Men's 1,500 metres Freestyle\",\n",
              " \"Tennis Men's Doubles\",\n",
              " \"Athletics Women's Long Jump\",\n",
              " \"Canoeing Men's Canadian Doubles, 500 metres\",\n",
              " \"Swimming Men's 400 metres Freestyle\",\n",
              " \"Canoeing Men's Kayak Doubles, 500 metres\",\n",
              " \"Fencing Women's epee, Team\",\n",
              " \"Athletics Women's 200 metres\",\n",
              " \"Fencing Men's Sabre, Individual\",\n",
              " \"Swimming Men's 100 metres Freestyle\",\n",
              " \"Gymnastics Men's Horizontal Bar\",\n",
              " \"Gymnastics Men's Horse Vault\",\n",
              " \"Wrestling Men's Lightweight, Greco-Roman\",\n",
              " \"Tennis Women's Doubles\",\n",
              " \"Diving Women's Platform\",\n",
              " \"Wrestling Men's Featherweight, Freestyle\",\n",
              " \"Judo Men's Middleweight\",\n",
              " \"Wrestling Men's Welterweight, Freestyle\",\n",
              " \"Gymnastics Men's Individual All-Around\",\n",
              " \"Weightlifting Men's Light-Heavyweight\",\n",
              " \"Athletics Women's Shot Put\",\n",
              " \"Wrestling Men's Lightweight, Freestyle\",\n",
              " \"Gymnastics Men's Floor Exercise\",\n",
              " \"Gymnastics Men's Pommelled Horse\",\n",
              " \"Wrestling Men's Light-Heavyweight, Freestyle\",\n",
              " \"Weightlifting Men's Middleweight\"]"
            ]
          },
          "execution_count": 17,
          "metadata": {},
          "output_type": "execute_result"
        }
      ],
      "source": [
        "sports_with_more_than_20"
      ]
    },
    {
      "cell_type": "code",
      "execution_count": null,
      "id": "22ce61c7",
      "metadata": {
        "id": "22ce61c7",
        "outputId": "2fd1947b-68a5-44af-ba25-46cc7ff5faf2"
      },
      "outputs": [
        {
          "data": {
            "text/plain": [
              "56"
            ]
          },
          "execution_count": 18,
          "metadata": {},
          "output_type": "execute_result"
        }
      ],
      "source": [
        "temp[\"Sport\"].nunique()"
      ]
    },
    {
      "cell_type": "code",
      "execution_count": null,
      "id": "c2d38d75",
      "metadata": {
        "id": "c2d38d75",
        "outputId": "7d542bfa-b31d-413f-989e-e36e79b2d571"
      },
      "outputs": [
        {
          "data": {
            "text/plain": [
              "Medal\n",
              "0    150\n",
              "1     24\n",
              "Name: count, dtype: int64"
            ]
          },
          "execution_count": 19,
          "metadata": {},
          "output_type": "execute_result"
        }
      ],
      "source": [
        "temp[temp[\"Sport\"] == \"Skeleton\"][\"Medal\"].value_counts()"
      ]
    },
    {
      "cell_type": "code",
      "execution_count": null,
      "id": "d633764f",
      "metadata": {
        "id": "d633764f"
      },
      "outputs": [],
      "source": [
        "temp = temp_subset"
      ]
    },
    {
      "cell_type": "code",
      "execution_count": null,
      "id": "94e6ab92",
      "metadata": {
        "id": "94e6ab92"
      },
      "outputs": [],
      "source": []
    },
    {
      "cell_type": "code",
      "execution_count": null,
      "id": "ef431636",
      "metadata": {
        "id": "ef431636"
      },
      "outputs": [],
      "source": []
    },
    {
      "cell_type": "code",
      "execution_count": null,
      "id": "6d00f348",
      "metadata": {
        "id": "6d00f348"
      },
      "outputs": [],
      "source": [
        "#mean_weight_medal_1 = temp[temp['Medal'] == 1].groupby('Sport')['Height'].mean()\n",
        "mean_weight_medal_1 = temp[temp['Medal'] == 1].groupby('Event')['Height'].mean()\n",
        "\n",
        "# Group by Sport and calculate the mean Weight for Medal == 0\n",
        "#mean_weight_medal_0 = temp[temp['Medal'] == 0].groupby('Sport')['Height'].mean()\n",
        "mean_weight_medal_0 = temp[temp['Medal'] == 0].groupby('Event')['Height'].mean()\n",
        "\n",
        "# Display the results\n",
        "df1 = mean_weight_medal_1.to_frame(name='Mean_Weight_Medal_1')\n",
        "df2 = mean_weight_medal_0.to_frame(name='Mean_Weight_Medal_0')\n",
        "\n",
        "# Merge the two DataFrames on the 'Sport' index\n",
        "merged_df = pd.merge(df1, df2, left_index=True, right_index=True)"
      ]
    },
    {
      "cell_type": "code",
      "execution_count": null,
      "id": "f65c91f3",
      "metadata": {
        "id": "f65c91f3"
      },
      "outputs": [],
      "source": []
    },
    {
      "cell_type": "code",
      "execution_count": null,
      "id": "51bf4b9f",
      "metadata": {
        "id": "51bf4b9f"
      },
      "outputs": [],
      "source": []
    },
    {
      "cell_type": "code",
      "execution_count": null,
      "id": "d591ddb9",
      "metadata": {
        "id": "d591ddb9"
      },
      "outputs": [],
      "source": [
        "merged_df[\"diff\"] = merged_df[\"Mean_Weight_Medal_1\"] - merged_df[\"Mean_Weight_Medal_0\"]"
      ]
    },
    {
      "cell_type": "code",
      "execution_count": null,
      "id": "9c90e608",
      "metadata": {
        "id": "9c90e608"
      },
      "outputs": [],
      "source": [
        "\n",
        "#(mean_weight_medal_1-mean_weight_medal_0).to_frame().sort_values(by=\"Height\", ascending = False)"
      ]
    },
    {
      "cell_type": "code",
      "execution_count": null,
      "id": "ac2eee94",
      "metadata": {
        "id": "ac2eee94",
        "outputId": "29f2c290-cbd7-4ef4-c535-d730d6c4c34d"
      },
      "outputs": [
        {
          "data": {
            "text/html": [
              "<div>\n",
              "<style scoped>\n",
              "    .dataframe tbody tr th:only-of-type {\n",
              "        vertical-align: middle;\n",
              "    }\n",
              "\n",
              "    .dataframe tbody tr th {\n",
              "        vertical-align: top;\n",
              "    }\n",
              "\n",
              "    .dataframe thead th {\n",
              "        text-align: right;\n",
              "    }\n",
              "</style>\n",
              "<table border=\"1\" class=\"dataframe\">\n",
              "  <thead>\n",
              "    <tr style=\"text-align: right;\">\n",
              "      <th></th>\n",
              "      <th>Mean_Weight_Medal_1</th>\n",
              "      <th>Mean_Weight_Medal_0</th>\n",
              "      <th>diff</th>\n",
              "    </tr>\n",
              "    <tr>\n",
              "      <th>Event</th>\n",
              "      <th></th>\n",
              "      <th></th>\n",
              "      <th></th>\n",
              "    </tr>\n",
              "  </thead>\n",
              "  <tbody>\n",
              "    <tr>\n",
              "      <th>Gymnastics Men's Floor Exercise</th>\n",
              "      <td>165.274510</td>\n",
              "      <td>167.676226</td>\n",
              "      <td>-2.401717</td>\n",
              "    </tr>\n",
              "    <tr>\n",
              "      <th>Gymnastics Men's Individual All-Around</th>\n",
              "      <td>165.352941</td>\n",
              "      <td>167.669123</td>\n",
              "      <td>-2.316182</td>\n",
              "    </tr>\n",
              "    <tr>\n",
              "      <th>Gymnastics Men's Horse Vault</th>\n",
              "      <td>165.615385</td>\n",
              "      <td>167.625000</td>\n",
              "      <td>-2.009615</td>\n",
              "    </tr>\n",
              "    <tr>\n",
              "      <th>Gymnastics Men's Team All-Around</th>\n",
              "      <td>165.982877</td>\n",
              "      <td>167.942632</td>\n",
              "      <td>-1.959755</td>\n",
              "    </tr>\n",
              "    <tr>\n",
              "      <th>Wrestling Men's Featherweight, Greco-Roman</th>\n",
              "      <td>164.714286</td>\n",
              "      <td>166.044898</td>\n",
              "      <td>-1.330612</td>\n",
              "    </tr>\n",
              "    <tr>\n",
              "      <th>...</th>\n",
              "      <td>...</td>\n",
              "      <td>...</td>\n",
              "      <td>...</td>\n",
              "    </tr>\n",
              "    <tr>\n",
              "      <th>Swimming Women's 4 x 100 metres Freestyle Relay</th>\n",
              "      <td>175.461847</td>\n",
              "      <td>172.109306</td>\n",
              "      <td>3.352542</td>\n",
              "    </tr>\n",
              "    <tr>\n",
              "      <th>Rhythmic Gymnastics Women's Group</th>\n",
              "      <td>171.420000</td>\n",
              "      <td>168.030189</td>\n",
              "      <td>3.389811</td>\n",
              "    </tr>\n",
              "    <tr>\n",
              "      <th>Swimming Men's 4 x 100 metres Freestyle Relay</th>\n",
              "      <td>190.467337</td>\n",
              "      <td>186.833583</td>\n",
              "      <td>3.633753</td>\n",
              "    </tr>\n",
              "    <tr>\n",
              "      <th>Cycling Men's 100 kilometres Team Time Trial</th>\n",
              "      <td>180.417476</td>\n",
              "      <td>176.557542</td>\n",
              "      <td>3.859934</td>\n",
              "    </tr>\n",
              "    <tr>\n",
              "      <th>Swimming Men's 100 metres Freestyle</th>\n",
              "      <td>190.867925</td>\n",
              "      <td>185.169385</td>\n",
              "      <td>5.698539</td>\n",
              "    </tr>\n",
              "  </tbody>\n",
              "</table>\n",
              "<p>143 rows × 3 columns</p>\n",
              "</div>"
            ],
            "text/plain": [
              "                                                 Mean_Weight_Medal_1  \\\n",
              "Event                                                                  \n",
              "Gymnastics Men's Floor Exercise                           165.274510   \n",
              "Gymnastics Men's Individual All-Around                    165.352941   \n",
              "Gymnastics Men's Horse Vault                              165.615385   \n",
              "Gymnastics Men's Team All-Around                          165.982877   \n",
              "Wrestling Men's Featherweight, Greco-Roman                164.714286   \n",
              "...                                                              ...   \n",
              "Swimming Women's 4 x 100 metres Freestyle Relay           175.461847   \n",
              "Rhythmic Gymnastics Women's Group                         171.420000   \n",
              "Swimming Men's 4 x 100 metres Freestyle Relay             190.467337   \n",
              "Cycling Men's 100 kilometres Team Time Trial              180.417476   \n",
              "Swimming Men's 100 metres Freestyle                       190.867925   \n",
              "\n",
              "                                                 Mean_Weight_Medal_0      diff  \n",
              "Event                                                                           \n",
              "Gymnastics Men's Floor Exercise                           167.676226 -2.401717  \n",
              "Gymnastics Men's Individual All-Around                    167.669123 -2.316182  \n",
              "Gymnastics Men's Horse Vault                              167.625000 -2.009615  \n",
              "Gymnastics Men's Team All-Around                          167.942632 -1.959755  \n",
              "Wrestling Men's Featherweight, Greco-Roman                166.044898 -1.330612  \n",
              "...                                                              ...       ...  \n",
              "Swimming Women's 4 x 100 metres Freestyle Relay           172.109306  3.352542  \n",
              "Rhythmic Gymnastics Women's Group                         168.030189  3.389811  \n",
              "Swimming Men's 4 x 100 metres Freestyle Relay             186.833583  3.633753  \n",
              "Cycling Men's 100 kilometres Team Time Trial              176.557542  3.859934  \n",
              "Swimming Men's 100 metres Freestyle                       185.169385  5.698539  \n",
              "\n",
              "[143 rows x 3 columns]"
            ]
          },
          "execution_count": 23,
          "metadata": {},
          "output_type": "execute_result"
        }
      ],
      "source": [
        "merged_df.sort_values(by=\"diff\", ascending = True)"
      ]
    },
    {
      "cell_type": "code",
      "execution_count": null,
      "id": "e9fad3dd",
      "metadata": {
        "id": "e9fad3dd"
      },
      "outputs": [],
      "source": [
        "temp[\"NOC\"].value_counts()"
      ]
    },
    {
      "cell_type": "code",
      "execution_count": null,
      "id": "d308987f",
      "metadata": {
        "id": "d308987f"
      },
      "outputs": [],
      "source": [
        "super_temp = temp[temp[\"Medal\"] == 1]\n",
        "#super_temp[super_temp[\"Event\"] == \"Fencing Women's Foil, Individual\"][\"NOC\"].value_counts()\n",
        "#super_temp[super_temp[\"Event\"] == \"Basketball Men's Basketball\"][\"NOC\"].value_counts()\n",
        "super_temp[super_temp[\"Event\"] == \"Basketball Men's Basketball\"]"
      ]
    },
    {
      "cell_type": "code",
      "execution_count": null,
      "id": "3bfadd08",
      "metadata": {
        "id": "3bfadd08"
      },
      "outputs": [],
      "source": [
        "temp[temp[\"Sport\"] == \"Gymnastics\"].shape"
      ]
    },
    {
      "cell_type": "code",
      "execution_count": null,
      "id": "fafda815",
      "metadata": {
        "id": "fafda815"
      },
      "outputs": [],
      "source": [
        "temp_model = temp[temp[\"Sport\"] == \"Boxing\"].drop(columns = [\"NOC\", \"Sport\", \"Event\", \"Year\"])"
      ]
    },
    {
      "cell_type": "code",
      "execution_count": null,
      "id": "b1ca944a",
      "metadata": {
        "id": "b1ca944a"
      },
      "outputs": [],
      "source": []
    },
    {
      "cell_type": "code",
      "execution_count": null,
      "id": "072cdd7a",
      "metadata": {
        "id": "072cdd7a"
      },
      "outputs": [],
      "source": [
        "temp_model[\"Medal\"].value_counts()"
      ]
    },
    {
      "cell_type": "code",
      "execution_count": null,
      "id": "b5198d0e",
      "metadata": {
        "id": "b5198d0e"
      },
      "outputs": [],
      "source": [
        "temp_model = reduce_no_medal(temp_model, 708)"
      ]
    },
    {
      "cell_type": "code",
      "execution_count": null,
      "id": "d84ba749",
      "metadata": {
        "id": "d84ba749"
      },
      "outputs": [],
      "source": []
    },
    {
      "cell_type": "code",
      "execution_count": null,
      "id": "bee0e185",
      "metadata": {
        "id": "bee0e185"
      },
      "outputs": [],
      "source": [
        "\n",
        "temp_model_X = temp_model.drop(columns=['Medal'])\n",
        "\n",
        "\n",
        "temp_model_Y = temp_model['Medal']\n",
        "\n",
        "\n",
        "dtc = DecisionTreeClassifier(max_leaf_nodes = 20)\n",
        "\n",
        "# Fit model to training data\n",
        "\n",
        "X_train, X_test, y_train, y_test = train_test_split(temp_model_X, temp_model_Y, test_size=0.1, random_state = 42)\n",
        "dtc.fit(X_train, y_train)\n",
        "print(\"training accuracy: {}| testing accuracy: {}\".format(round(dtc.score(X_train, y_train),2), round(dtc.score(X_test, y_test),2)))\n",
        "\n",
        "print(export_text(dtc, feature_names = temp_model_X.columns))"
      ]
    },
    {
      "cell_type": "code",
      "execution_count": null,
      "id": "50681d0a",
      "metadata": {
        "id": "50681d0a"
      },
      "outputs": [],
      "source": [
        "dtc.predict(X_test)"
      ]
    },
    {
      "cell_type": "code",
      "execution_count": null,
      "id": "6c39178b",
      "metadata": {
        "id": "6c39178b"
      },
      "outputs": [],
      "source": [
        "temp_one_hot = pd.get_dummies(temp, columns=['NOC'], dtype = 'int')"
      ]
    },
    {
      "cell_type": "code",
      "execution_count": null,
      "id": "cddcac2c",
      "metadata": {
        "id": "cddcac2c"
      },
      "outputs": [],
      "source": [
        "model = temp_one_hot[temp_one_hot[\"Sport\"] == \"Boxing\"]"
      ]
    },
    {
      "cell_type": "code",
      "execution_count": null,
      "id": "db520346",
      "metadata": {
        "id": "db520346"
      },
      "outputs": [],
      "source": []
    },
    {
      "cell_type": "code",
      "execution_count": null,
      "id": "101061ae",
      "metadata": {
        "id": "101061ae"
      },
      "outputs": [],
      "source": []
    },
    {
      "cell_type": "code",
      "execution_count": null,
      "id": "ea902bc7",
      "metadata": {
        "id": "ea902bc7"
      },
      "outputs": [],
      "source": [
        "model = model.drop(columns = [\"Sport\", \"Event\"])\n",
        "model_X = model.drop(columns=['Medal'])\n",
        "\n",
        "\n",
        "model_Y = model['Medal']\n",
        "\n",
        "\n",
        "#model_X, model_Y\n"
      ]
    },
    {
      "cell_type": "code",
      "execution_count": null,
      "id": "db1c7fd2",
      "metadata": {
        "id": "db1c7fd2"
      },
      "outputs": [],
      "source": []
    },
    {
      "cell_type": "code",
      "execution_count": null,
      "id": "cc304068",
      "metadata": {
        "scrolled": false,
        "id": "cc304068"
      },
      "outputs": [],
      "source": [
        "\n",
        "dtc = DecisionTreeClassifier(max_leaf_nodes = 20)\n",
        "\n",
        "# Fit model to training data\n",
        "\n",
        "X_train, X_test, y_train, y_test = train_test_split(model_X, model_Y, test_size=0.1, random_state = 42)\n",
        "dtc.fit(X_train, y_train)\n",
        "print(\"training accuracy: {}| testing accuracy: {}\".format(round(dtc.score(X_train, y_train),2), round(dtc.score(X_test, y_test),2)))\n",
        "\n",
        "print(export_text(dtc, feature_names = model_X.columns))"
      ]
    },
    {
      "cell_type": "code",
      "execution_count": null,
      "id": "90aa8396",
      "metadata": {
        "id": "90aa8396"
      },
      "outputs": [],
      "source": [
        "X_test[\"NOC_CUB\"].value_counts()"
      ]
    },
    {
      "cell_type": "code",
      "execution_count": null,
      "id": "5144d3e7",
      "metadata": {
        "scrolled": true,
        "id": "5144d3e7"
      },
      "outputs": [],
      "source": [
        "print(sum(dtc.predict(X_test)))"
      ]
    },
    {
      "cell_type": "code",
      "execution_count": null,
      "id": "d222e566",
      "metadata": {
        "id": "d222e566"
      },
      "outputs": [],
      "source": [
        "#importing sklearn model constructors\n",
        "from sklearn.linear_model import LogisticRegression\n",
        "from sklearn.discriminant_analysis import LinearDiscriminantAnalysis\n",
        "\n",
        "\n",
        "'''ADD SOME CODE HERE'''\n",
        "#creating logistic regression model\n",
        "lg = LogisticRegression()\n",
        "lg.fit(X_train, Y_train['two_year_recid'])\n",
        "\n",
        "#saving results\n",
        "model_scores[\"Logistic\"] = lg.score(X_test, Y_test['two_year_recid'])\n",
        "\n",
        "\n",
        "#creating LDA model\n",
        "lda = LinearDiscriminantAnalysis(store_covariance = True)\n",
        "lda.fit(X_train, Y_train['two_year_recid'])\n",
        "\n",
        "#saving results\n",
        "model_scores[\"LDA\"] = lda.score(X_test, Y_test['two_year_recid'])\n"
      ]
    },
    {
      "cell_type": "code",
      "execution_count": null,
      "id": "0226080b",
      "metadata": {
        "id": "0226080b"
      },
      "outputs": [],
      "source": [
        "#creating random forest model\n",
        "rfc = RandomForestClassifier()\n",
        "rfc.fit(X_train, Y_train['two_year_recid'])\n",
        "\n",
        "#saving results\n",
        "model_scores[\"Random Forest\"] = rfc.score(X_test, Y_test['two_year_recid'])\n",
        "\n",
        "\n",
        "#creating bagging model\n",
        "bc = BaggingClassifier()\n",
        "bc.fit(X_train, Y_train['two_year_recid'])\n",
        "\n",
        "#saving results\n",
        "model_scores[\"Bagging\"] = bc.score(X_test, Y_test['two_year_recid'])\n",
        "\n",
        "\n",
        "#creating boosting model\n",
        "gbc = GradientBoostingClassifier()\n",
        "gbc.fit(X_train, Y_train['two_year_recid'])\n",
        "\n",
        "#saving results\n",
        "model_scores[\"Boosting\"] = gbc.score(X_test, Y_test['two_year_recid'])"
      ]
    },
    {
      "cell_type": "code",
      "execution_count": null,
      "id": "6caa98c0",
      "metadata": {
        "id": "6caa98c0"
      },
      "outputs": [],
      "source": [
        "#creating svc model\n",
        "svc = SVC()\n",
        "svc.fit(X_train, Y_train['two_year_recid'])\n",
        "\n",
        "#saving results\n",
        "model_scores[\"SVC\"] = svc.score(X_test, Y_test['two_year_recid'])"
      ]
    },
    {
      "cell_type": "code",
      "execution_count": null,
      "id": "34726678",
      "metadata": {
        "id": "34726678"
      },
      "outputs": [],
      "source": []
    }
  ],
  "metadata": {
    "kernelspec": {
      "display_name": "Python 3 (ipykernel)",
      "language": "python",
      "name": "python3"
    },
    "language_info": {
      "codemirror_mode": {
        "name": "ipython",
        "version": 3
      },
      "file_extension": ".py",
      "mimetype": "text/x-python",
      "name": "python",
      "nbconvert_exporter": "python",
      "pygments_lexer": "ipython3",
      "version": "3.11.4"
    },
    "colab": {
      "provenance": []
    }
  },
  "nbformat": 4,
  "nbformat_minor": 5
}