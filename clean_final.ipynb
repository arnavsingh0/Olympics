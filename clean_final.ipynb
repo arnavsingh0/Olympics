{
 "cells": [
  {
   "cell_type": "markdown",
   "id": "574f805d583acd3",
   "metadata": {},
   "source": [
    "# Olympics Project\n",
    "Description: In this notebook, we construct a Decision Tree, Random Forest Classifier, Bagging, and Boosting models in attempt to model the data from the Olympics. \n",
    "### Authors: Kelvin Wang, Ethan Baird, Arnav Singh, Tuna Akmehmet"
   ]
  },
  {
   "cell_type": "code",
   "execution_count": 164,
   "id": "48b854d1",
   "metadata": {
    "ExecuteTime": {
     "end_time": "2024-08-18T03:51:38.974045Z",
     "start_time": "2024-08-18T03:51:38.644638Z"
    }
   },
   "outputs": [
    {
     "name": "stdout",
     "output_type": "stream",
     "text": [
      "(271116, 15)\n"
     ]
    }
   ],
   "source": [
    "#importing data\n",
    "import numpy as np\n",
    "import pandas as pd\n",
    "from sklearn.tree import DecisionTreeClassifier, export_text\n",
    "from sklearn.model_selection import train_test_split\n",
    "from sklearn.metrics import accuracy_score\n",
    "from sklearn.ensemble import RandomForestClassifier, BaggingClassifier, GradientBoostingClassifier\n",
    "from sklearn.svm import SVC\n",
    "import matplotlib.pyplot as plt\n",
    "import seaborn as sns\n",
    "\n",
    "df = pd.read_csv(\"data/athlete_events.csv\") ## Here we have the raw .csv, feel free to download from Kaggle\n",
    "print(df.shape)"
   ]
  },
  {
   "cell_type": "code",
   "execution_count": 165,
   "id": "e2b09257",
   "metadata": {
    "ExecuteTime": {
     "end_time": "2024-08-18T03:51:52.641955Z",
     "start_time": "2024-08-18T03:51:52.492330Z"
    },
    "id": "e2b09257",
    "outputId": "39bfcb08-024a-45b1-b4cd-c38212e5b5d8"
   },
   "outputs": [
    {
     "data": {
      "text/plain": [
       "(206165, 9)"
      ]
     },
     "execution_count": 165,
     "metadata": {},
     "output_type": "execute_result"
    }
   ],
   "source": [
    "#subsetting\n",
    "# subset = df[['Sex', 'Age', 'Height', 'Weight', 'NOC', 'Year', 'Sport', 'Event', 'Medal']]\n",
    "# subset['Medal'].fillna('No Medal', inplace=True)\n",
    "# \n",
    "# \n",
    "# #Medal is 0 if they did not get a medal, 1 if they got bronze, silver, or gold\n",
    "# subset['Medal'] = subset['Medal'].apply(lambda x: 0 if x == 'No Medal' else 1)\n",
    "# \n",
    "# #Sex is 0 if male, 1 if female\n",
    "# subset['Sex'] = subset['Sex'].apply(lambda x: 0 if x == 'M' else 1)\n",
    "# \n",
    "# subset = subset.dropna()\n",
    "# \n",
    "# subset.shape\n",
    "\n",
    "###Better way without errors\n",
    "# Create a subset of the dataframe\n",
    "subset = df[['Sex', 'Age', 'Height', 'Weight', 'NOC', 'Year', 'Sport', 'Event', 'Medal']].copy()\n",
    "\n",
    "# Fill missing values in the 'Medal' column\n",
    "subset['Medal'] = subset['Medal'].fillna('No Medal')\n",
    "\n",
    "# Convert 'Medal' to 0 if no medal, 1 if any medal\n",
    "subset['Medal'] = subset['Medal'].apply(lambda x: 0 if x == 'No Medal' else 1)\n",
    "\n",
    "# Convert 'Sex' to 0 if male, 1 if female\n",
    "subset['Sex'] = subset['Sex'].apply(lambda x: 0 if x == 'M' else 1)\n",
    "\n",
    "# Drop rows with any missing values\n",
    "subset = subset.dropna()\n",
    "\n",
    "# Display the first few rows of the modified subset, same size as before\n",
    "subset.shape"
   ]
  },
  {
   "cell_type": "code",
   "execution_count": 166,
   "id": "9b6aa60e",
   "metadata": {
    "ExecuteTime": {
     "end_time": "2024-08-18T03:51:57.248560Z",
     "start_time": "2024-08-18T03:51:57.245323Z"
    },
    "id": "9b6aa60e"
   },
   "outputs": [],
   "source": [
    "def reduce_no_medal(df, n):\n",
    "    '''\n",
    "    :param df: the dataframe of the athlete events\n",
    "    :param n: The requested size to reduce the non-medal count too, in order to accurately compare to the medal count.\n",
    "    :return: the reduced_df with a more accurate size of medals vs. non-medals. We did this because size of non-medals is far greater than with medals\n",
    "    '''\n",
    "    no_medals = df[df['Medal'] == 0]\n",
    "    won_medals = df[df['Medal'] == 1]\n",
    "\n",
    "    no_medal_sample = no_medals.sample(n=n, random_state=42)\n",
    "\n",
    "    reduced_df = pd.concat([no_medal_sample, won_medals])\n",
    "\n",
    "    #shuffle the data, not sure if needed\n",
    "    reduced_df = reduced_df.sample(frac=1, random_state=42).reset_index(drop=True)\n",
    "\n",
    "    return reduced_df"
   ]
  },
  {
   "cell_type": "code",
   "execution_count": 167,
   "id": "38cc6e4b",
   "metadata": {
    "ExecuteTime": {
     "end_time": "2024-08-18T03:53:13.403720Z",
     "start_time": "2024-08-18T03:53:13.361014Z"
    },
    "id": "38cc6e4b",
    "outputId": "3fcc0fad-b950-4b73-8c9c-958fb8982b40"
   },
   "outputs": [
    {
     "data": {
      "text/plain": [
       "(189335, 9)"
      ]
     },
     "execution_count": 167,
     "metadata": {},
     "output_type": "execute_result"
    }
   ],
   "source": [
    "winners = subset[subset['Medal'] == 1]\n",
    "\n",
    "# Step 2: Group by Sport/Event and count the occurrences\n",
    "#sport_counts = medal_1_df['Sport'].value_counts()\n",
    "sport_counts = winners['Event'].value_counts() # In this case we choose event\n",
    "\n",
    "# Step 3: Filter to get events/sports with more than 50 entries, in order to get a good sample\n",
    "sports_with_more_than_50 = sport_counts[sport_counts > 20].index.tolist()\n",
    "\n",
    "#temp_subset = temp[temp['Sport'].isin(sports_with_more_than_20)]\n",
    "subset_enough_winners = subset[subset['Event'].isin(sports_with_more_than_50)]\n",
    "\n",
    "# Display the subset DataFrame\n",
    "subset_enough_winners.shape"
   ]
  },
  {
   "cell_type": "code",
   "execution_count": 168,
   "id": "801e69e9",
   "metadata": {
    "ExecuteTime": {
     "end_time": "2024-08-18T03:53:25.093828Z",
     "start_time": "2024-08-18T03:53:25.050272Z"
    },
    "id": "801e69e9",
    "outputId": "5d933bbe-abaf-4fbf-ba06-580d69d15661"
   },
   "outputs": [
    {
     "data": {
      "text/html": [
       "<div>\n",
       "<style scoped>\n",
       "    .dataframe tbody tr th:only-of-type {\n",
       "        vertical-align: middle;\n",
       "    }\n",
       "\n",
       "    .dataframe tbody tr th {\n",
       "        vertical-align: top;\n",
       "    }\n",
       "\n",
       "    .dataframe thead th {\n",
       "        text-align: right;\n",
       "    }\n",
       "</style>\n",
       "<table border=\"1\" class=\"dataframe\">\n",
       "  <thead>\n",
       "    <tr style=\"text-align: right;\">\n",
       "      <th></th>\n",
       "      <th>Mean_Weight_Medal_1</th>\n",
       "      <th>Mean_Weight_Medal_0</th>\n",
       "      <th>diff</th>\n",
       "    </tr>\n",
       "    <tr>\n",
       "      <th>Event</th>\n",
       "      <th></th>\n",
       "      <th></th>\n",
       "      <th></th>\n",
       "    </tr>\n",
       "  </thead>\n",
       "  <tbody>\n",
       "    <tr>\n",
       "      <th>Table Tennis Men's Doubles</th>\n",
       "      <td>66.354839</td>\n",
       "      <td>71.161417</td>\n",
       "      <td>-4.806579</td>\n",
       "    </tr>\n",
       "    <tr>\n",
       "      <th>Diving Men's Synchronized Platform</th>\n",
       "      <td>62.500000</td>\n",
       "      <td>66.880000</td>\n",
       "      <td>-4.380000</td>\n",
       "    </tr>\n",
       "    <tr>\n",
       "      <th>Gymnastics Women's Uneven Bars</th>\n",
       "      <td>44.583333</td>\n",
       "      <td>47.908163</td>\n",
       "      <td>-3.324830</td>\n",
       "    </tr>\n",
       "    <tr>\n",
       "      <th>Ski Jumping Men's Normal Hill, Individual</th>\n",
       "      <td>62.785714</td>\n",
       "      <td>66.058901</td>\n",
       "      <td>-3.273186</td>\n",
       "    </tr>\n",
       "    <tr>\n",
       "      <th>Shooting Women's Air Rifle, 10 metres</th>\n",
       "      <td>55.423077</td>\n",
       "      <td>58.683646</td>\n",
       "      <td>-3.260569</td>\n",
       "    </tr>\n",
       "    <tr>\n",
       "      <th>...</th>\n",
       "      <td>...</td>\n",
       "      <td>...</td>\n",
       "      <td>...</td>\n",
       "    </tr>\n",
       "    <tr>\n",
       "      <th>Speed Skating Men's 10,000 metres</th>\n",
       "      <td>79.500000</td>\n",
       "      <td>74.481481</td>\n",
       "      <td>5.018519</td>\n",
       "    </tr>\n",
       "    <tr>\n",
       "      <th>Cycling Men's Sprint</th>\n",
       "      <td>82.260000</td>\n",
       "      <td>77.191257</td>\n",
       "      <td>5.068743</td>\n",
       "    </tr>\n",
       "    <tr>\n",
       "      <th>Swimming Men's 200 metres Individual Medley</th>\n",
       "      <td>82.181818</td>\n",
       "      <td>76.965753</td>\n",
       "      <td>5.216065</td>\n",
       "    </tr>\n",
       "    <tr>\n",
       "      <th>Swimming Men's 100 metres Backstroke</th>\n",
       "      <td>82.155556</td>\n",
       "      <td>76.641762</td>\n",
       "      <td>5.513793</td>\n",
       "    </tr>\n",
       "    <tr>\n",
       "      <th>Swimming Men's 50 metres Freestyle</th>\n",
       "      <td>88.583333</td>\n",
       "      <td>79.616327</td>\n",
       "      <td>8.967007</td>\n",
       "    </tr>\n",
       "  </tbody>\n",
       "</table>\n",
       "<p>343 rows × 3 columns</p>\n",
       "</div>"
      ],
      "text/plain": [
       "                                             Mean_Weight_Medal_1  \\\n",
       "Event                                                              \n",
       "Table Tennis Men's Doubles                             66.354839   \n",
       "Diving Men's Synchronized Platform                     62.500000   \n",
       "Gymnastics Women's Uneven Bars                         44.583333   \n",
       "Ski Jumping Men's Normal Hill, Individual              62.785714   \n",
       "Shooting Women's Air Rifle, 10 metres                  55.423077   \n",
       "...                                                          ...   \n",
       "Speed Skating Men's 10,000 metres                      79.500000   \n",
       "Cycling Men's Sprint                                   82.260000   \n",
       "Swimming Men's 200 metres Individual Medley            82.181818   \n",
       "Swimming Men's 100 metres Backstroke                   82.155556   \n",
       "Swimming Men's 50 metres Freestyle                     88.583333   \n",
       "\n",
       "                                             Mean_Weight_Medal_0      diff  \n",
       "Event                                                                       \n",
       "Table Tennis Men's Doubles                             71.161417 -4.806579  \n",
       "Diving Men's Synchronized Platform                     66.880000 -4.380000  \n",
       "Gymnastics Women's Uneven Bars                         47.908163 -3.324830  \n",
       "Ski Jumping Men's Normal Hill, Individual              66.058901 -3.273186  \n",
       "Shooting Women's Air Rifle, 10 metres                  58.683646 -3.260569  \n",
       "...                                                          ...       ...  \n",
       "Speed Skating Men's 10,000 metres                      74.481481  5.018519  \n",
       "Cycling Men's Sprint                                   77.191257  5.068743  \n",
       "Swimming Men's 200 metres Individual Medley            76.965753  5.216065  \n",
       "Swimming Men's 100 metres Backstroke                   76.641762  5.513793  \n",
       "Swimming Men's 50 metres Freestyle                     79.616327  8.967007  \n",
       "\n",
       "[343 rows x 3 columns]"
      ]
     },
     "execution_count": 168,
     "metadata": {},
     "output_type": "execute_result"
    }
   ],
   "source": [
    "#mean_weight_medal_1 = temp[temp['Medal'] == 1].groupby('Sport')['Height'].mean()\n",
    "mean_weight_medal_1 = subset_enough_winners[subset_enough_winners['Medal'] == 1].groupby('Event')['Weight'].mean()\n",
    "\n",
    "# Group by Sport and calculate the mean Weight for Medal == 0\n",
    "#mean_weight_medal_0 = temp[temp['Medal'] == 0].groupby('Sport')['Height'].mean()\n",
    "mean_weight_medal_0 = subset_enough_winners[subset_enough_winners['Medal'] == 0].groupby('Event')['Weight'].mean()\n",
    "\n",
    "# Display the results\n",
    "df1 = mean_weight_medal_1.to_frame(name='Mean_Weight_Medal_1')\n",
    "df2 = mean_weight_medal_0.to_frame(name='Mean_Weight_Medal_0')\n",
    "\n",
    "# Merge the two DataFrames on the 'Sport' index\n",
    "merged_df = pd.merge(df1, df2, left_index=True, right_index=True)\n",
    "\n",
    "merged_df[\"diff\"] = merged_df[\"Mean_Weight_Medal_1\"] - merged_df[\"Mean_Weight_Medal_0\"]\n",
    "\n",
    "merged_df.sort_values(by=\"diff\", ascending = True)"
   ]
  },
  {
   "cell_type": "code",
   "execution_count": 169,
   "id": "4705a306b242e97f",
   "metadata": {
    "ExecuteTime": {
     "end_time": "2024-08-18T04:37:08.764281Z",
     "start_time": "2024-08-18T04:37:08.478399Z"
    }
   },
   "outputs": [
    {
     "data": {
      "image/png": "[encoded data removed]",
      "text/plain": [
       "<Figure size 640x480 with 2 Axes>"
      ]
     },
     "metadata": {},
     "output_type": "display_data"
    }
   ],
   "source": [
    "### Plotting this on a graph\n",
    "plt.subplot(2,1,1)\n",
    "plt.hist(merged_df[\"diff\"], bins=30)\n",
    "plt.title(\"Histogram of Mean Weight Medal Differences\")\n",
    "plt.subplot(2,1,2)\n",
    "# Use seaborn's regplot to add a scatter plot and regression line\n",
    "sns.regplot(x='Mean_Weight_Medal_0', y='Mean_Weight_Medal_1', data=merged_df, scatter_kws={'s':50}, line_kws={'color':'red'})\n",
    "\n",
    "# Add titles and labels\n",
    "plt.title('Scatter Plot with Regression Line')\n",
    "plt.xlabel('Mean Weight Medal 0')\n",
    "plt.ylabel('Mean Weight Medal 1')\n",
    "plt.subplots_adjust(bottom=-0.5)\n",
    "plt.show()"
   ]
  },
  {
   "cell_type": "code",
   "execution_count": 170,
   "id": "44df8b9c",
   "metadata": {
    "ExecuteTime": {
     "end_time": "2024-08-16T21:54:10.746917Z",
     "start_time": "2024-08-16T21:54:10.623488Z"
    },
    "id": "44df8b9c"
   },
   "outputs": [
    {
     "data": {
      "application/vnd.jupyter.widget-view+json": {
       "model_id": "8b6520aef3534dceb2ce41173474a3c8",
       "version_major": 2,
       "version_minor": 0
      },
      "text/plain": [
       "Dropdown(description='Select Sport/Event:', index=1, options=('Sport', 'Event'), value='Event')"
      ]
     },
     "metadata": {},
     "output_type": "display_data"
    },
    {
     "data": {
      "application/vnd.jupyter.widget-view+json": {
       "model_id": "e958e6503cbf40cda51b315717f5edb1",
       "version_major": 2,
       "version_minor": 0
      },
      "text/plain": [
       "Output()"
      ]
     },
     "metadata": {},
     "output_type": "display_data"
    },
    {
     "data": {
      "application/vnd.jupyter.widget-view+json": {
       "model_id": "7d086e87dd574ff69247c6a5c6a22a8f",
       "version_major": 2,
       "version_minor": 0
      },
      "text/plain": [
       "VBox(children=(Button(description=\"Basketball Men's Basketball\", style=ButtonStyle()), Button(description=\"Jud…"
      ]
     },
     "metadata": {},
     "output_type": "display_data"
    }
   ],
   "source": [
    "# BEGINNING OF UI FOR SELECTION OF SPORT/EVENT\n",
    "###Creating a UI\n",
    "import ipywidgets as widgets\n",
    "from IPython.display import display\n",
    "\n",
    "final_event = None\n",
    "model_data = None\n",
    "button_box = None  # Initialize button_box globally\n",
    "\n",
    "# Create a dropdown for selecting between \"Sport\" and \"Event\"\n",
    "category_dropdown = widgets.Dropdown(\n",
    "    options=[\"Sport\", \"Event\"],\n",
    "    value=\"Event\",  # Default value\n",
    "    description='Select Sport/Event:',\n",
    "    disabled=False,\n",
    ")\n",
    "\n",
    "# Function to create buttons based on selected category\n",
    "def create_buttons(change):\n",
    "    global model_data, button_box, final_event\n",
    "    # Clear previous buttons if they exist\n",
    "    if button_box is not None:\n",
    "        button_box.children = []\n",
    "    \n",
    "    # Get the selected category\n",
    "    selected_category = category_dropdown.value\n",
    "    \n",
    "    if selected_category == \"Event\":\n",
    "        # Create a button for each unique event in subset_enough_winners\n",
    "        unique_events = subset_enough_winners[\"Event\"].unique()\n",
    "        buttons = [widgets.Button(description=event) for event in unique_events]\n",
    "        \n",
    "        # Define what happens when a button is clicked\n",
    "        def on_event_button_click(b):\n",
    "            global model_data, final_event\n",
    "            event = b.description\n",
    "            model_data = subset_enough_winners[subset_enough_winners[\"Event\"] == event]\n",
    "            final_event = event\n",
    "            with output:\n",
    "                output.clear_output()\n",
    "                print(f\"Selected Event: {event}\")\n",
    "                display(model_data.head())\n",
    "        \n",
    "        for button in buttons:\n",
    "            button.on_click(on_event_button_click)\n",
    "        \n",
    "        # Display the buttons\n",
    "        button_box = widgets.VBox(buttons)\n",
    "        display(button_box)\n",
    "    \n",
    "# Create an output widget to display results\n",
    "output = widgets.Output()\n",
    "\n",
    "# Attach the function to the dropdown change event\n",
    "category_dropdown.observe(create_buttons, names='value')\n",
    "\n",
    "# Display the widgets in the notebook\n",
    "display(category_dropdown)\n",
    "display(output)\n",
    "\n",
    "# Initial call to create buttons based on the default category\n",
    "create_buttons(None)\n",
    "#model_data = subset_enough_winners[subset_enough_winners[\"Sport\"] == \"Boxing\"]"
   ]
  },
  {
   "cell_type": "code",
   "execution_count": 172,
   "id": "059e4e26",
   "metadata": {
    "ExecuteTime": {
     "end_time": "2024-08-16T22:01:29.761489Z",
     "start_time": "2024-08-16T22:01:29.747710Z"
    },
    "id": "059e4e26"
   },
   "outputs": [],
   "source": [
    "### Getting rid of Unecessary columns for building the models\n",
    "model_data = model_data.drop(columns = [\"Sport\", \"Event\", \"Year\"])\n",
    "# Making sure the size medals vs. non-medals is similar\n",
    "model_data = reduce_no_medal(model_data, len(model_data[model_data[\"Medal\"] == 1]))\n",
    "\n",
    "# Creating another model 1-hot encoding the country data\n",
    "one_hot_model = pd.get_dummies(model_data, columns=['NOC'], dtype = 'int')\n",
    "\n",
    "# Dropping the NOC column in the original data\n",
    "model_data = model_data.drop(columns = [\"NOC\"])"
   ]
  },
  {
   "cell_type": "code",
   "execution_count": 173,
   "id": "e1a1f24c",
   "metadata": {
    "ExecuteTime": {
     "end_time": "2024-08-16T22:01:35.458427Z",
     "start_time": "2024-08-16T22:01:35.454343Z"
    },
    "id": "e1a1f24c"
   },
   "outputs": [],
   "source": [
    "## The model without geographic influence\n",
    "\n",
    "X = model_data.drop(columns=['Medal'])\n",
    "Y = model_data['Medal']\n",
    "X_train, X_test, y_train, y_test = train_test_split(X, Y, test_size=0.1, random_state = 42)\n",
    "\n",
    "basic_data = (X_train, X_test, y_train, y_test)"
   ]
  },
  {
   "cell_type": "code",
   "execution_count": 174,
   "id": "4f7e9c69",
   "metadata": {
    "ExecuteTime": {
     "end_time": "2024-08-16T22:01:36.693470Z",
     "start_time": "2024-08-16T22:01:36.689090Z"
    },
    "id": "4f7e9c69"
   },
   "outputs": [],
   "source": [
    "#one_hot_model = one_hot_model.drop(columns = [\"Sport\", \"Event\", \"Year\"])\n",
    "\n",
    "### The model with Geographic influence\n",
    "one_hot_X = one_hot_model.drop(columns=['Medal'])\n",
    "one_hot_Y = one_hot_model['Medal']\n",
    "\n",
    "one_hot_X_train, one_hot_X_test, one_hot_y_train, one_hot_y_test = train_test_split(one_hot_X, one_hot_Y, test_size=0.1, random_state = 42)\n",
    "\n",
    "one_hot_data = (one_hot_X_train, one_hot_X_test, one_hot_y_train, one_hot_y_test)"
   ]
  },
  {
   "cell_type": "code",
   "execution_count": 175,
   "id": "c08985fa",
   "metadata": {
    "ExecuteTime": {
     "end_time": "2024-08-16T22:01:39.009561Z",
     "start_time": "2024-08-16T22:01:39.006105Z"
    },
    "id": "c08985fa"
   },
   "outputs": [],
   "source": [
    "def model_scorer(model_name, model, data):\n",
    "    (X_train, X_test, y_train, y_test) = data\n",
    "    model.fit(X_train, y_train)\n",
    "    return ((model_name, model.score(X_train, y_train), model.score(X_test, y_test)))"
   ]
  },
  {
   "cell_type": "code",
   "execution_count": 176,
   "id": "f4e7d936",
   "metadata": {
    "ExecuteTime": {
     "end_time": "2024-08-16T22:01:39.626724Z",
     "start_time": "2024-08-16T22:01:39.624814Z"
    },
    "id": "f4e7d936"
   },
   "outputs": [],
   "source": [
    "model_scores = []"
   ]
  },
  {
   "cell_type": "code",
   "execution_count": 177,
   "id": "8a08024f",
   "metadata": {
    "ExecuteTime": {
     "end_time": "2024-08-16T22:01:40.030827Z",
     "start_time": "2024-08-16T22:01:40.025071Z"
    },
    "id": "8a08024f"
   },
   "outputs": [],
   "source": [
    "dtc = DecisionTreeClassifier(max_leaf_nodes = 20)\n",
    "\n",
    "# Fit model to training data\n",
    "\n",
    "#dtc.fit(X_train, y_train)\n",
    "#print(\"training accuracy: {}| testing accuracy: {}\".format(round(dtc.score(X_train, y_train),2), round(dtc.score(X_test, y_test),2)))\n",
    "\n",
    "#print(export_text(dtc, feature_names = X.columns))\n",
    "model_scores.append(model_scorer(\"DTC\", dtc, basic_data))"
   ]
  },
  {
   "cell_type": "code",
   "execution_count": 178,
   "id": "61c812d6",
   "metadata": {
    "ExecuteTime": {
     "end_time": "2024-08-16T22:01:40.562473Z",
     "start_time": "2024-08-16T22:01:40.555513Z"
    },
    "id": "61c812d6",
    "scrolled": false
   },
   "outputs": [],
   "source": [
    "one_hot_dtc = DecisionTreeClassifier(max_leaf_nodes = 20)\n",
    "\n",
    "# Fit model to training data\n",
    "\n",
    "#one_hot_dtc.fit(one_hot_X_train, one_hot_y_train)\n",
    "#print(\"training accuracy: {}| testing accuracy: {}\".format(round(one_hot_dtc.score(one_hot_X_train, one_hot_y_train),2), round(one_hot_dtc.score(one_hot_X_test, one_hot_y_test),2)))\n",
    "\n",
    "#print(export_text(one_hot_dtc, feature_names = one_hot_X.columns))\n",
    "model_scores.append(model_scorer(\"one_hot_DTC\", one_hot_dtc, one_hot_data))"
   ]
  },
  {
   "cell_type": "code",
   "execution_count": 179,
   "id": "33385b2a",
   "metadata": {
    "ExecuteTime": {
     "end_time": "2024-08-16T22:01:41.142673Z",
     "start_time": "2024-08-16T22:01:41.079641Z"
    },
    "id": "33385b2a",
    "outputId": "46c123ee-f5cc-4322-de8e-66e90c97c5a7"
   },
   "outputs": [
    {
     "name": "stderr",
     "output_type": "stream",
     "text": [
      "/Users/ethanbaird/Desktop/Dartmouth/Math/Math_76/Final_Project/.venv/lib/python3.11/site-packages/sklearn/linear_model/_logistic.py:469: ConvergenceWarning: lbfgs failed to converge (status=1):\n",
      "STOP: TOTAL NO. of ITERATIONS REACHED LIMIT.\n",
      "\n",
      "Increase the number of iterations (max_iter) or scale the data as shown in:\n",
      "    https://scikit-learn.org/stable/modules/preprocessing.html\n",
      "Please also refer to the documentation for alternative solver options:\n",
      "    https://scikit-learn.org/stable/modules/linear_model.html#logistic-regression\n",
      "  n_iter_i = _check_optimize_result(\n"
     ]
    }
   ],
   "source": [
    "#importing sklearn model constructors\n",
    "from sklearn.linear_model import LogisticRegression\n",
    "from sklearn.discriminant_analysis import LinearDiscriminantAnalysis\n",
    "\n",
    "\n",
    "'''ADD SOME CODE HERE'''\n",
    "#creating logistic regression model\n",
    "lg = LogisticRegression(max_iter = 1000)\n",
    "\n",
    "#saving results\n",
    "model_scores.append(model_scorer(\"Logistic\", lg, basic_data))\n",
    "\n",
    "#one hot logistic regression\n",
    "one_hot_lg = LogisticRegression()\n",
    "\n",
    "#saving results\n",
    "model_scores.append(model_scorer(\"one_hot_Logistic\", one_hot_lg, one_hot_data))"
   ]
  },
  {
   "cell_type": "code",
   "execution_count": 180,
   "id": "6266bbc1",
   "metadata": {
    "ExecuteTime": {
     "end_time": "2024-08-16T22:01:41.724118Z",
     "start_time": "2024-08-16T22:01:41.639420Z"
    },
    "id": "6266bbc1"
   },
   "outputs": [],
   "source": [
    "#creating LDA model\n",
    "lda = LinearDiscriminantAnalysis(store_covariance = True)\n",
    "\n",
    "#saving results\n",
    "model_scores.append(model_scorer(\"LDA\", lda, basic_data))\n",
    "\n",
    "#one hot version\n",
    "one_hot_lda = LinearDiscriminantAnalysis(store_covariance = True)\n",
    "\n",
    "#saving results\n",
    "model_scores.append(model_scorer(\"one_hot_LDA\", one_hot_lda, one_hot_data))\n"
   ]
  },
  {
   "cell_type": "code",
   "execution_count": 181,
   "id": "7525312d",
   "metadata": {
    "ExecuteTime": {
     "end_time": "2024-08-16T22:01:42.605720Z",
     "start_time": "2024-08-16T22:01:42.386631Z"
    },
    "id": "7525312d"
   },
   "outputs": [],
   "source": [
    "#creating random forest model\n",
    "rfc = RandomForestClassifier()\n",
    "\n",
    "#saving results\n",
    "model_scores.append(model_scorer(\"RFC\", rfc, basic_data))\n",
    "\n",
    "#one hot version\n",
    "one_hot_rfc = RandomForestClassifier()\n",
    "\n",
    "#saving results\n",
    "model_scores.append(model_scorer(\"one_hot_RFC\", one_hot_rfc, one_hot_data))\n",
    "\n",
    "#creating bagging model\n",
    "bc = BaggingClassifier()\n",
    "\n",
    "#saving results\n",
    "model_scores.append(model_scorer(\"Bagging\", bc, basic_data))\n",
    "\n",
    "#one hot version\n",
    "one_hot_bc = BaggingClassifier()\n",
    "\n",
    "#saving results\n",
    "model_scores.append(model_scorer(\"one_hot_Bagging\", one_hot_bc, one_hot_data))\n",
    "\n",
    "#creating boosting model\n",
    "gbc = GradientBoostingClassifier()\n",
    "\n",
    "#saving results\n",
    "model_scores.append(model_scorer(\"Boosting\", gbc, basic_data))\n",
    "\n",
    "#one hot version\n",
    "one_hot_gbc = GradientBoostingClassifier()\n",
    "\n",
    "#saving results\n",
    "model_scores.append(model_scorer(\"one_hot_Boosting\", one_hot_gbc, one_hot_data))"
   ]
  },
  {
   "cell_type": "code",
   "execution_count": 182,
   "id": "6e249847",
   "metadata": {
    "ExecuteTime": {
     "end_time": "2024-08-16T22:01:43.079490Z",
     "start_time": "2024-08-16T22:01:43.054764Z"
    },
    "id": "6e249847"
   },
   "outputs": [],
   "source": [
    "#creating svc model\n",
    "svc = SVC()\n",
    "\n",
    "#saving results\n",
    "model_scores.append(model_scorer(\"SVC\", svc, basic_data))\n",
    "\n",
    "#one hot version\n",
    "one_hot_svc = SVC()\n",
    "\n",
    "#saving results\n",
    "model_scores.append(model_scorer(\"one_hot_SVC\", one_hot_svc, one_hot_data))"
   ]
  },
  {
   "cell_type": "code",
   "execution_count": 183,
   "id": "8a180bb1",
   "metadata": {
    "ExecuteTime": {
     "end_time": "2024-08-16T22:01:43.554198Z",
     "start_time": "2024-08-16T22:01:43.551824Z"
    },
    "id": "8a180bb1"
   },
   "outputs": [],
   "source": [
    "model_scores = pd.DataFrame(model_scores, columns=['Model', 'Training Accuracy', 'Testing Accuracy'])"
   ]
  },
  {
   "cell_type": "code",
   "execution_count": 184,
   "id": "6d723f50",
   "metadata": {
    "ExecuteTime": {
     "end_time": "2024-08-16T22:01:44.482044Z",
     "start_time": "2024-08-16T22:01:44.476646Z"
    },
    "id": "6d723f50",
    "outputId": "c90b925e-2007-463a-eead-334745227935"
   },
   "outputs": [
    {
     "data": {
      "text/html": [
       "<div>\n",
       "<style scoped>\n",
       "    .dataframe tbody tr th:only-of-type {\n",
       "        vertical-align: middle;\n",
       "    }\n",
       "\n",
       "    .dataframe tbody tr th {\n",
       "        vertical-align: top;\n",
       "    }\n",
       "\n",
       "    .dataframe thead th {\n",
       "        text-align: right;\n",
       "    }\n",
       "</style>\n",
       "<table border=\"1\" class=\"dataframe\">\n",
       "  <thead>\n",
       "    <tr style=\"text-align: right;\">\n",
       "      <th></th>\n",
       "      <th>Model</th>\n",
       "      <th>Training Accuracy</th>\n",
       "      <th>Testing Accuracy</th>\n",
       "    </tr>\n",
       "  </thead>\n",
       "  <tbody>\n",
       "    <tr>\n",
       "      <th>0</th>\n",
       "      <td>DTC</td>\n",
       "      <td>0.968254</td>\n",
       "      <td>0.285714</td>\n",
       "    </tr>\n",
       "    <tr>\n",
       "      <th>1</th>\n",
       "      <td>one_hot_DTC</td>\n",
       "      <td>0.968254</td>\n",
       "      <td>0.857143</td>\n",
       "    </tr>\n",
       "    <tr>\n",
       "      <th>2</th>\n",
       "      <td>Logistic</td>\n",
       "      <td>0.650794</td>\n",
       "      <td>0.428571</td>\n",
       "    </tr>\n",
       "    <tr>\n",
       "      <th>3</th>\n",
       "      <td>one_hot_Logistic</td>\n",
       "      <td>0.825397</td>\n",
       "      <td>0.571429</td>\n",
       "    </tr>\n",
       "    <tr>\n",
       "      <th>4</th>\n",
       "      <td>LDA</td>\n",
       "      <td>0.634921</td>\n",
       "      <td>0.428571</td>\n",
       "    </tr>\n",
       "    <tr>\n",
       "      <th>5</th>\n",
       "      <td>one_hot_LDA</td>\n",
       "      <td>0.857143</td>\n",
       "      <td>0.714286</td>\n",
       "    </tr>\n",
       "    <tr>\n",
       "      <th>6</th>\n",
       "      <td>RFC</td>\n",
       "      <td>1.000000</td>\n",
       "      <td>0.285714</td>\n",
       "    </tr>\n",
       "    <tr>\n",
       "      <th>7</th>\n",
       "      <td>one_hot_RFC</td>\n",
       "      <td>1.000000</td>\n",
       "      <td>0.571429</td>\n",
       "    </tr>\n",
       "    <tr>\n",
       "      <th>8</th>\n",
       "      <td>Bagging</td>\n",
       "      <td>0.952381</td>\n",
       "      <td>0.428571</td>\n",
       "    </tr>\n",
       "    <tr>\n",
       "      <th>9</th>\n",
       "      <td>one_hot_Bagging</td>\n",
       "      <td>0.936508</td>\n",
       "      <td>0.285714</td>\n",
       "    </tr>\n",
       "    <tr>\n",
       "      <th>10</th>\n",
       "      <td>Boosting</td>\n",
       "      <td>1.000000</td>\n",
       "      <td>0.428571</td>\n",
       "    </tr>\n",
       "    <tr>\n",
       "      <th>11</th>\n",
       "      <td>one_hot_Boosting</td>\n",
       "      <td>0.984127</td>\n",
       "      <td>0.571429</td>\n",
       "    </tr>\n",
       "    <tr>\n",
       "      <th>12</th>\n",
       "      <td>SVC</td>\n",
       "      <td>0.507937</td>\n",
       "      <td>0.428571</td>\n",
       "    </tr>\n",
       "    <tr>\n",
       "      <th>13</th>\n",
       "      <td>one_hot_SVC</td>\n",
       "      <td>0.507937</td>\n",
       "      <td>0.428571</td>\n",
       "    </tr>\n",
       "  </tbody>\n",
       "</table>\n",
       "</div>"
      ],
      "text/plain": [
       "               Model  Training Accuracy  Testing Accuracy\n",
       "0                DTC           0.968254          0.285714\n",
       "1        one_hot_DTC           0.968254          0.857143\n",
       "2           Logistic           0.650794          0.428571\n",
       "3   one_hot_Logistic           0.825397          0.571429\n",
       "4                LDA           0.634921          0.428571\n",
       "5        one_hot_LDA           0.857143          0.714286\n",
       "6                RFC           1.000000          0.285714\n",
       "7        one_hot_RFC           1.000000          0.571429\n",
       "8            Bagging           0.952381          0.428571\n",
       "9    one_hot_Bagging           0.936508          0.285714\n",
       "10          Boosting           1.000000          0.428571\n",
       "11  one_hot_Boosting           0.984127          0.571429\n",
       "12               SVC           0.507937          0.428571\n",
       "13       one_hot_SVC           0.507937          0.428571"
      ]
     },
     "execution_count": 184,
     "metadata": {},
     "output_type": "execute_result"
    }
   ],
   "source": [
    "model_scores"
   ]
  },
  {
   "cell_type": "code",
   "execution_count": 185,
   "id": "68824fe4",
   "metadata": {
    "id": "68824fe4"
   },
   "outputs": [],
   "source": [
    "def model_basic(model, event):\n",
    "    test_boxing = test_df[test_df['Event']==event].drop(columns=[\"Year\", \"Season\", \"City\",\"Name\", \"Team\",\"Unnamed: 13\", \"Event\",\"Sport\",\"NOC\",\"Games\"] )\n",
    "    test_boxing['Sex'] = test_boxing['Sex'].apply(lambda x: 0 if x == 'M' else 1)\n",
    "    predictions = model.predict(test_boxing)\n",
    "    return np.array(predictions)"
   ]
  },
  {
   "cell_type": "code",
   "execution_count": 186,
   "id": "1d84b0e6",
   "metadata": {
    "id": "1d84b0e6"
   },
   "outputs": [],
   "source": [
    "def model_one_hot(model, event):\n",
    "    global test_df\n",
    "    test_boxing_one_hot = test_boxing = test_df[test_df['Event']==event].drop(columns=[\"Year\", \"Season\", \"City\",\"Name\", \"Team\",\"Unnamed: 13\", \"Event\",\"Sport\",\"Games\"] )\n",
    "    test_boxing_one_hot = pd.get_dummies(test_boxing_one_hot, columns=['NOC'], dtype = 'int')\n",
    "    list_of_col = list(one_hot_X_train.columns.values)\n",
    "    for col in list_of_col:\n",
    "        test_boxing_one_hot[col] = 0\n",
    "\n",
    "    test_boxing_one_hot = test_boxing_one_hot[one_hot_X_train.columns]\n",
    "\n",
    "    predictions = model.predict(test_boxing_one_hot)\n",
    "    return np.array(predictions)"
   ]
  },
  {
   "cell_type": "code",
   "execution_count": 195,
   "id": "292bf4487c8e73bb",
   "metadata": {},
   "outputs": [
    {
     "name": "stdout",
     "output_type": "stream",
     "text": [
      "Archery Men's Individual\n",
      "[0.2, 0.7, 0.2, 0.3, 0.2, 0.3, 0.2, 0.7, 0.1, 0.7, 0.3, 0.7, 0.7, 0.7]\n"
     ]
    }
   ],
   "source": [
    "W_Foil_Ind = np.array([1,0,0,0,0,0,0,0,1,1])\n",
    "M_Div_Spr = np.array([1,1,1,0,0,0,0,0,0])\n",
    "W_Gym_Floor = np.array([1,1,0,1,0,0,0,0,0])\n",
    "M_Arch_Ind = np.array([1,0,0,0,1,0,1,0,0,0])\n",
    "M_Ath_High = np.array([1,1,1,0,0,0,0,0,0,0])\n",
    "M_Ath_Mara = np.array([1,1,1,0,0,0,0,0,0,0])\n",
    "M_Box_Heavy = np.array([1,0,1,0,1,0,1,0])\n",
    "models = [dtc,one_hot_dtc,lg,one_hot_lg,lda,one_hot_lda,rfc,one_hot_rfc,bc,one_hot_bc,gbc,one_hot_gbc,svc,one_hot_svc]\n",
    "models_names = [\"DTC\",\"one_hot_DTC\",\"Logistic\",\"one_hot_Logistic\",\"LDA\",\"one_hot_LDA\",\"RFC\",\"one_hot_RFC\",\"Bagging\",\"one_hot_Bagging\",\"Boosting\",\"one_hot_Boosting\",\"SVC\",\"one_hot_SVC\"]\n",
    "final_acc_list = []\n",
    "test_df = pd.read_csv(\"cvs\")\n",
    "\n",
    "\n",
    "\n",
    "\n",
    "i = 0\n",
    "final_event = final_event.split(\",\")[0]\n",
    "print(final_event)\n",
    "\n",
    "\n",
    "\n",
    "for model in models:\n",
    "    i += 1\n",
    "    if final_event == \"Fencing Women's Foil\":\n",
    "        if i%2 == 0:\n",
    "            predictions = model_one_hot(model, final_event)\n",
    "            accuracy = (len(W_Foil_Ind) - np.count_nonzero(predictions - W_Foil_Ind))/len(W_Foil_Ind)\n",
    "            final_acc_list.append(accuracy)\n",
    "        else:\n",
    "            predictions = model_basic(model, final_event)\n",
    "            accuracy = (len(W_Foil_Ind) - np.count_nonzero(predictions - W_Foil_Ind))/len(W_Foil_Ind)\n",
    "            final_acc_list.append(accuracy)\n",
    "    elif final_event == \"Boxing Men's Heavyweight\":\n",
    "        if i%2 == 0:\n",
    "            predictions = model_one_hot(model,final_event)\n",
    "            accuracy = (len(M_Box_Heavy) - np.count_nonzero(predictions - M_Box_Heavy))/len(M_Box_Heavy)\n",
    "            final_acc_list.append(accuracy)\n",
    "        else:\n",
    "            predictions = model_basic(model, final_event)\n",
    "            accuracy = (len(M_Box_Heavy) - np.count_nonzero(predictions - M_Box_Heavy))/len(M_Box_Heavy)\n",
    "            final_acc_list.append(accuracy)\n",
    "    elif final_event == \"Diving Men's Springboard\":\n",
    "        if i%2 == 0:\n",
    "            predictions = model_one_hot(model,final_event)\n",
    "            accuracy = (len(M_Div_Spr) - np.count_nonzero(predictions - M_Div_Spr))/len(M_Div_Spr)\n",
    "            final_acc_list.append(accuracy)\n",
    "        else:\n",
    "            predictions = model_basic(model, final_event)\n",
    "            accuracy = (len(M_Div_Spr) - np.count_nonzero(predictions - M_Div_Spr))/len(M_Div_Spr)\n",
    "            final_acc_list.append(accuracy)\n",
    "    elif final_event == \"Gymnastics Women's Floor Exercise\":\n",
    "        if i%2 == 0:\n",
    "            predictions = model_one_hot(model,final_event)\n",
    "            accuracy = (len(W_Gym_Floor) - np.count_nonzero(predictions - W_Gym_Floor))/len(W_Gym_Floor)\n",
    "            final_acc_list.append(accuracy)\n",
    "        else:\n",
    "            predictions = model_basic(model, final_event)\n",
    "            accuracy = (len(W_Gym_Floor) - np.count_nonzero(predictions - W_Gym_Floor))/len(W_Gym_Floor)\n",
    "            final_acc_list.append(accuracy)\n",
    "    elif final_event == \"Archery Men's Individual\":\n",
    "        if i%2 == 0:\n",
    "            predictions = model_one_hot(model,final_event)\n",
    "            accuracy = (len(M_Arch_Ind) - np.count_nonzero(predictions - M_Arch_Ind))/len(M_Arch_Ind)\n",
    "            final_acc_list.append(accuracy)\n",
    "        else:\n",
    "            predictions = model_basic(model, final_event)\n",
    "            accuracy = (len(M_Arch_Ind) - np.count_nonzero(predictions - M_Arch_Ind))/len(M_Arch_Ind)\n",
    "            final_acc_list.append(accuracy)\n",
    "    elif final_event == \"Athletics Men's High Jump\":\n",
    "        if i%2 == 0:\n",
    "            predictions = model_one_hot(model,final_event)\n",
    "            accuracy = (len(M_Ath_High) - np.count_nonzero(predictions - M_Ath_High))/len(M_Ath_High)\n",
    "            final_acc_list.append(accuracy)\n",
    "        else:\n",
    "            predictions = model_basic(model, final_event)\n",
    "            accuracy = (len(M_Ath_High) - np.count_nonzero(predictions - M_Ath_High))/len(M_Ath_High)\n",
    "            final_acc_list.append(accuracy)\n",
    "    elif final_event == \"Athletics Men's Marathon\":\n",
    "        if i%2 == 0:\n",
    "            predictions = model_one_hot(model,final_event)\n",
    "            accuracy = (len(M_Ath_Mara) - np.count_nonzero(predictions - M_Ath_Mara))/len(M_Ath_Mara)\n",
    "            final_acc_list.append(accuracy)\n",
    "        else:\n",
    "            predictions = model_basic(model, final_event)\n",
    "            accuracy = (len(M_Ath_Mara) - np.count_nonzero(predictions - M_Ath_Mara))/len(M_Ath_Mara)\n",
    "            final_acc_list.append(accuracy)\n",
    "\n",
    "print(final_acc_list)\n",
    "\n"
   ]
  },
  {
   "cell_type": "code",
   "execution_count": null,
   "id": "28ac4687",
   "metadata": {},
   "outputs": [],
   "source": [
    "MHigh =[0.3, 0.7, 0.5, 0.7, 0.5, 0.7, 0.5, 0.7, 0.4, 0.7, 0.6, 0.7, 0.3, 0.7]\n",
    "WFoil =[0.6, 0.7, 0.3, 0.7, 0.3, 0.7, 0.6, 0.7, 0.6, 0.3, 0.4, 0.3, 0.7, 0.7]\n",
    "MDivSpr = [0.2222222222222222, 0.6666666666666666, 0.3333333333333333, 0.3333333333333333, 0.3333333333333333, 0.6666666666666666, 0.2222222222222222, 0.6666666666666666, 0.1111111111111111, 0.6666666666666666, 0.2222222222222222, 0.6666666666666666, 0.3333333333333333, 0.3333333333333333]\n",
    "WGymFloor = [0.2222222222222222, 0.6666666666666666, 0.6666666666666666, 0.6666666666666666, 0.6666666666666666, 0.3333333333333333, 0.6666666666666666, 0.3333333333333333, 0.3333333333333333, 0.6666666666666666, 0.2222222222222222, 0.6666666666666666, 0.6666666666666666, 0.6666666666666666]\n",
    "MMara = [0.6, 0.3, 0.7, 0.3, 0.7, 0.3, 0.7, 0.3, 0.7, 0.3, 0.6, 0.3, 0.7, 0.7]\n",
    "MHeavy = [0.5, 0.5, 0.5, 0.5, 0.5, 0.5, 0.375, 0.5, 0.5, 0.5, 0.375, 0.5, 0.5, 0.5]\n",
    "MArch = [0.2, 0.7, 0.2, 0.3, 0.2, 0.3, 0.2, 0.7, 0.1, 0.7, 0.3, 0.7, 0.7, 0.7]\n",
    "\n",
    "\n"
   ]
  }
 ],
 "metadata": {
  "colab": {
   "provenance": []
  },
  "kernelspec": {
   "display_name": "Python 3 (ipykernel)",
   "language": "python",
   "name": "python3"
  },
  "language_info": {
   "codemirror_mode": {
    "name": "ipython",
    "version": 3
   },
   "file_extension": ".py",
   "mimetype": "text/x-python",
   "name": "python",
   "nbconvert_exporter": "python",
   "pygments_lexer": "ipython3",
   "version": "3.11.4"
  }
 },
 "nbformat": 4,
 "nbformat_minor": 5
}
