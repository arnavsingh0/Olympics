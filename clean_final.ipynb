{
 "cells": [
  {
   "cell_type": "markdown",
   "id": "574f805d583acd3",
   "metadata": {},
   "source": [
    "# Olympics Project\n",
    "Description: In this notebook, we construct a Decision Tree, Random Forest Classifier, Bagging, and Boosting models in attempt to model the data from the Olympics. \n",
    "### Authors: Kelvin Wang, Ethan Baird, Arnav Singh, Tuna Akmehmet"
   ]
  },
  {
   "cell_type": "code",
   "id": "48b854d1",
   "metadata": {
    "ExecuteTime": {
     "end_time": "2024-08-18T03:51:38.974045Z",
     "start_time": "2024-08-18T03:51:38.644638Z"
    }
   },
   "source": [
    "#importing data\n",
    "import numpy as np\n",
    "import pandas as pd\n",
    "from sklearn.tree import DecisionTreeClassifier, export_text\n",
    "from sklearn.model_selection import train_test_split\n",
    "from sklearn.metrics import accuracy_score\n",
    "from sklearn.ensemble import RandomForestClassifier, BaggingClassifier, GradientBoostingClassifier\n",
    "from sklearn.svm import SVC\n",
    "import matplotlib.pyplot as plt\n",
    "import seaborn as sns\n",
    "\n",
    "df = pd.read_csv(\"data/athlete_events.csv\") ## Here we have the raw .csv, feel free to download from Kaggle\n",
    "print(df.shape)"
   ],
   "outputs": [
    {
     "name": "stdout",
     "output_type": "stream",
     "text": [
      "(271116, 15)\n"
     ]
    }
   ],
   "execution_count": 2
  },
  {
   "cell_type": "code",
   "id": "e2b09257",
   "metadata": {
    "id": "e2b09257",
    "outputId": "39bfcb08-024a-45b1-b4cd-c38212e5b5d8",
    "ExecuteTime": {
     "end_time": "2024-08-18T03:51:52.641955Z",
     "start_time": "2024-08-18T03:51:52.492330Z"
    }
   },
   "source": [
    "#subsetting\n",
    "# subset = df[['Sex', 'Age', 'Height', 'Weight', 'NOC', 'Year', 'Sport', 'Event', 'Medal']]\n",
    "# subset['Medal'].fillna('No Medal', inplace=True)\n",
    "# \n",
    "# \n",
    "# #Medal is 0 if they did not get a medal, 1 if they got bronze, silver, or gold\n",
    "# subset['Medal'] = subset['Medal'].apply(lambda x: 0 if x == 'No Medal' else 1)\n",
    "# \n",
    "# #Sex is 0 if male, 1 if female\n",
    "# subset['Sex'] = subset['Sex'].apply(lambda x: 0 if x == 'M' else 1)\n",
    "# \n",
    "# subset = subset.dropna()\n",
    "# \n",
    "# subset.shape\n",
    "\n",
    "###Better way without errors\n",
    "# Create a subset of the dataframe\n",
    "subset = df[['Sex', 'Age', 'Height', 'Weight', 'NOC', 'Year', 'Sport', 'Event', 'Medal']].copy()\n",
    "\n",
    "# Fill missing values in the 'Medal' column\n",
    "subset['Medal'] = subset['Medal'].fillna('No Medal')\n",
    "\n",
    "# Convert 'Medal' to 0 if no medal, 1 if any medal\n",
    "subset['Medal'] = subset['Medal'].apply(lambda x: 0 if x == 'No Medal' else 1)\n",
    "\n",
    "# Convert 'Sex' to 0 if male, 1 if female\n",
    "subset['Sex'] = subset['Sex'].apply(lambda x: 0 if x == 'M' else 1)\n",
    "\n",
    "# Drop rows with any missing values\n",
    "subset = subset.dropna()\n",
    "\n",
    "# Display the first few rows of the modified subset, same size as before\n",
    "subset.shape"
   ],
   "outputs": [
    {
     "data": {
      "text/plain": [
       "(206165, 9)"
      ]
     },
     "execution_count": 3,
     "metadata": {},
     "output_type": "execute_result"
    }
   ],
   "execution_count": 3
  },
  {
   "cell_type": "code",
   "id": "9b6aa60e",
   "metadata": {
    "id": "9b6aa60e",
    "ExecuteTime": {
     "end_time": "2024-08-18T03:51:57.248560Z",
     "start_time": "2024-08-18T03:51:57.245323Z"
    }
   },
   "source": [
    "def reduce_no_medal(df, n):\n",
    "    '''\n",
    "    :param df: the dataframe of the athlete events\n",
    "    :param n: The requested size to reduce the non-medal count too, in order to accurately compare to the medal count.\n",
    "    :return: the reduced_df with a more accurate size of medals vs. non-medals. We did this because size of non-medals is far greater than with medals\n",
    "    '''\n",
    "    no_medals = df[df['Medal'] == 0]\n",
    "    won_medals = df[df['Medal'] == 1]\n",
    "\n",
    "    no_medal_sample = no_medals.sample(n=n, random_state=42)\n",
    "\n",
    "    reduced_df = pd.concat([no_medal_sample, won_medals])\n",
    "\n",
    "    #shuffle the data, not sure if needed\n",
    "    reduced_df = reduced_df.sample(frac=1, random_state=42).reset_index(drop=True)\n",
    "\n",
    "    return reduced_df"
   ],
   "outputs": [],
   "execution_count": 4
  },
  {
   "cell_type": "code",
   "id": "38cc6e4b",
   "metadata": {
    "id": "38cc6e4b",
    "outputId": "3fcc0fad-b950-4b73-8c9c-958fb8982b40",
    "ExecuteTime": {
     "end_time": "2024-08-18T03:53:13.403720Z",
     "start_time": "2024-08-18T03:53:13.361014Z"
    }
   },
   "source": [
    "winners = subset[subset['Medal'] == 1]\n",
    "\n",
    "# Step 2: Group by Sport/Event and count the occurrences\n",
    "#sport_counts = medal_1_df['Sport'].value_counts()\n",
    "sport_counts = winners['Event'].value_counts() # In this case we choose event\n",
    "\n",
    "# Step 3: Filter to get events/sports with more than 50 entries, in order to get a good sample\n",
    "sports_with_more_than_50 = sport_counts[sport_counts > 50].index.tolist()\n",
    "\n",
    "#temp_subset = temp[temp['Sport'].isin(sports_with_more_than_20)]\n",
    "subset_enough_winners = subset[subset['Event'].isin(sports_with_more_than_50)]\n",
    "\n",
    "# Display the subset DataFrame\n",
    "subset_enough_winners.shape"
   ],
   "outputs": [
    {
     "data": {
      "text/plain": [
       "(107065, 9)"
      ]
     },
     "execution_count": 7,
     "metadata": {},
     "output_type": "execute_result"
    }
   ],
   "execution_count": 7
  },
  {
   "cell_type": "code",
   "id": "801e69e9",
   "metadata": {
    "id": "801e69e9",
    "outputId": "5d933bbe-abaf-4fbf-ba06-580d69d15661",
    "ExecuteTime": {
     "end_time": "2024-08-18T03:53:25.093828Z",
     "start_time": "2024-08-18T03:53:25.050272Z"
    }
   },
   "source": [
    "#mean_weight_medal_1 = temp[temp['Medal'] == 1].groupby('Sport')['Height'].mean()\n",
    "mean_weight_medal_1 = subset_enough_winners[subset_enough_winners['Medal'] == 1].groupby('Event')['Weight'].mean()\n",
    "\n",
    "# Group by Sport and calculate the mean Weight for Medal == 0\n",
    "#mean_weight_medal_0 = temp[temp['Medal'] == 0].groupby('Sport')['Height'].mean()\n",
    "mean_weight_medal_0 = subset_enough_winners[subset_enough_winners['Medal'] == 0].groupby('Event')['Weight'].mean()\n",
    "\n",
    "# Display the results\n",
    "df1 = mean_weight_medal_1.to_frame(name='Mean_Weight_Medal_1')\n",
    "df2 = mean_weight_medal_0.to_frame(name='Mean_Weight_Medal_0')\n",
    "\n",
    "# Merge the two DataFrames on the 'Sport' index\n",
    "merged_df = pd.merge(df1, df2, left_index=True, right_index=True)\n",
    "\n",
    "merged_df[\"diff\"] = merged_df[\"Mean_Weight_Medal_1\"] - merged_df[\"Mean_Weight_Medal_0\"]\n",
    "\n",
    "merged_df.sort_values(by=\"diff\", ascending = True)"
   ],
   "outputs": [
    {
     "data": {
      "text/plain": [
       "                                               Mean_Weight_Medal_1  \\\n",
       "Event                                                                \n",
       "Gymnastics Men's Floor Exercise                          60.941176   \n",
       "Gymnastics Men's Individual All-Around                   61.176471   \n",
       "Gymnastics Men's Team All-Around                         61.547945   \n",
       "Athletics Men's Pole Vault                               74.512658   \n",
       "Gymnastics Women's Team All-Around                       46.080153   \n",
       "...                                                            ...   \n",
       "Basketball Men's Basketball                              94.993443   \n",
       "Swimming Men's 4 x 100 metres Freestyle Relay            84.753769   \n",
       "Sailing Mixed Two Person Keelboat                        90.432099   \n",
       "Canoeing Men's Kayak Fours, 1,000 metres                 86.107143   \n",
       "Swimming Men's 100 metres Freestyle                      84.075472   \n",
       "\n",
       "                                               Mean_Weight_Medal_0      diff  \n",
       "Event                                                                         \n",
       "Gymnastics Men's Floor Exercise                          63.409057 -2.467880  \n",
       "Gymnastics Men's Individual All-Around                   63.411201 -2.234731  \n",
       "Gymnastics Men's Team All-Around                         63.625984 -2.078039  \n",
       "Athletics Men's Pole Vault                               76.451271 -1.938613  \n",
       "Gymnastics Women's Team All-Around                       47.711722 -1.631570  \n",
       "...                                                            ...       ...  \n",
       "Basketball Men's Basketball                              90.673690  4.319753  \n",
       "Swimming Men's 4 x 100 metres Freestyle Relay            80.358321  4.395448  \n",
       "Sailing Mixed Two Person Keelboat                        85.821519  4.610580  \n",
       "Canoeing Men's Kayak Fours, 1,000 metres                 81.472097  4.635046  \n",
       "Swimming Men's 100 metres Freestyle                      79.115433  4.960039  \n",
       "\n",
       "[143 rows x 3 columns]"
      ],
      "text/html": [
       "<div>\n",
       "<style scoped>\n",
       "    .dataframe tbody tr th:only-of-type {\n",
       "        vertical-align: middle;\n",
       "    }\n",
       "\n",
       "    .dataframe tbody tr th {\n",
       "        vertical-align: top;\n",
       "    }\n",
       "\n",
       "    .dataframe thead th {\n",
       "        text-align: right;\n",
       "    }\n",
       "</style>\n",
       "<table border=\"1\" class=\"dataframe\">\n",
       "  <thead>\n",
       "    <tr style=\"text-align: right;\">\n",
       "      <th></th>\n",
       "      <th>Mean_Weight_Medal_1</th>\n",
       "      <th>Mean_Weight_Medal_0</th>\n",
       "      <th>diff</th>\n",
       "    </tr>\n",
       "    <tr>\n",
       "      <th>Event</th>\n",
       "      <th></th>\n",
       "      <th></th>\n",
       "      <th></th>\n",
       "    </tr>\n",
       "  </thead>\n",
       "  <tbody>\n",
       "    <tr>\n",
       "      <th>Gymnastics Men's Floor Exercise</th>\n",
       "      <td>60.941176</td>\n",
       "      <td>63.409057</td>\n",
       "      <td>-2.467880</td>\n",
       "    </tr>\n",
       "    <tr>\n",
       "      <th>Gymnastics Men's Individual All-Around</th>\n",
       "      <td>61.176471</td>\n",
       "      <td>63.411201</td>\n",
       "      <td>-2.234731</td>\n",
       "    </tr>\n",
       "    <tr>\n",
       "      <th>Gymnastics Men's Team All-Around</th>\n",
       "      <td>61.547945</td>\n",
       "      <td>63.625984</td>\n",
       "      <td>-2.078039</td>\n",
       "    </tr>\n",
       "    <tr>\n",
       "      <th>Athletics Men's Pole Vault</th>\n",
       "      <td>74.512658</td>\n",
       "      <td>76.451271</td>\n",
       "      <td>-1.938613</td>\n",
       "    </tr>\n",
       "    <tr>\n",
       "      <th>Gymnastics Women's Team All-Around</th>\n",
       "      <td>46.080153</td>\n",
       "      <td>47.711722</td>\n",
       "      <td>-1.631570</td>\n",
       "    </tr>\n",
       "    <tr>\n",
       "      <th>...</th>\n",
       "      <td>...</td>\n",
       "      <td>...</td>\n",
       "      <td>...</td>\n",
       "    </tr>\n",
       "    <tr>\n",
       "      <th>Basketball Men's Basketball</th>\n",
       "      <td>94.993443</td>\n",
       "      <td>90.673690</td>\n",
       "      <td>4.319753</td>\n",
       "    </tr>\n",
       "    <tr>\n",
       "      <th>Swimming Men's 4 x 100 metres Freestyle Relay</th>\n",
       "      <td>84.753769</td>\n",
       "      <td>80.358321</td>\n",
       "      <td>4.395448</td>\n",
       "    </tr>\n",
       "    <tr>\n",
       "      <th>Sailing Mixed Two Person Keelboat</th>\n",
       "      <td>90.432099</td>\n",
       "      <td>85.821519</td>\n",
       "      <td>4.610580</td>\n",
       "    </tr>\n",
       "    <tr>\n",
       "      <th>Canoeing Men's Kayak Fours, 1,000 metres</th>\n",
       "      <td>86.107143</td>\n",
       "      <td>81.472097</td>\n",
       "      <td>4.635046</td>\n",
       "    </tr>\n",
       "    <tr>\n",
       "      <th>Swimming Men's 100 metres Freestyle</th>\n",
       "      <td>84.075472</td>\n",
       "      <td>79.115433</td>\n",
       "      <td>4.960039</td>\n",
       "    </tr>\n",
       "  </tbody>\n",
       "</table>\n",
       "<p>143 rows × 3 columns</p>\n",
       "</div>"
      ]
     },
     "execution_count": 8,
     "metadata": {},
     "output_type": "execute_result"
    }
   ],
   "execution_count": 8
  },
  {
   "cell_type": "code",
   "id": "4705a306b242e97f",
   "metadata": {
    "ExecuteTime": {
     "end_time": "2024-08-18T04:37:08.764281Z",
     "start_time": "2024-08-18T04:37:08.478399Z"
    }
   },
   "source": [
    "### Plotting this on a graph\n",
    "plt.subplot(2,1,1)\n",
    "plt.hist(merged_df[\"diff\"], bins=30)\n",
    "plt.title(\"Histogram of Mean Weight Medal Differences\")\n",
    "plt.subplot(2,1,2)\n",
    "# Use seaborn's regplot to add a scatter plot and regression line\n",
    "sns.regplot(x='Mean_Weight_Medal_0', y='Mean_Weight_Medal_1', data=merged_df, scatter_kws={'s':50}, line_kws={'color':'red'})\n",
    "\n",
    "# Add titles and labels\n",
    "plt.title('Scatter Plot with Regression Line')\n",
    "plt.xlabel('Mean Weight Medal 0')\n",
    "plt.ylabel('Mean Weight Medal 1')\n",
    "plt.subplots_adjust(bottom=-0.5)\n",
    "plt.show()"
   ],
   "outputs": [
    {
     "data": {
      "text/plain": [
       "<Figure size 640x480 with 2 Axes>"
      ],
      "image/png": "[encoded data removed]"
     },
     "metadata": {},
     "output_type": "display_data"
    }
   ],
   "execution_count": 9
  },
  {
   "cell_type": "code",
   "execution_count": 78,
   "id": "44df8b9c",
   "metadata": {
    "ExecuteTime": {
     "end_time": "2024-08-16T21:54:10.746917Z",
     "start_time": "2024-08-16T21:54:10.623488Z"
    },
    "id": "44df8b9c"
   },
   "outputs": [
    {
     "data": {
      "application/vnd.jupyter.widget-view+json": {
       "model_id": "a6072ed77ebe455894dd39fb7d22224c",
       "version_major": 2,
       "version_minor": 0
      },
      "text/plain": [
       "Dropdown(description='Select Sport/Event:', index=1, options=('Sport', 'Event'), value='Event')"
      ]
     },
     "metadata": {},
     "output_type": "display_data"
    },
    {
     "data": {
      "application/vnd.jupyter.widget-view+json": {
       "model_id": "1df377eb260049d28e55a8ec89079141",
       "version_major": 2,
       "version_minor": 0
      },
      "text/plain": [
       "Output()"
      ]
     },
     "metadata": {},
     "output_type": "display_data"
    },
    {
     "data": {
      "application/vnd.jupyter.widget-view+json": {
       "model_id": "a64dff42fc954698a40aaed47bedd2b9",
       "version_major": 2,
       "version_minor": 0
      },
      "text/plain": [
       "VBox(children=(Button(description=\"Basketball Men's Basketball\", style=ButtonStyle()), Button(description=\"Cro…"
      ]
     },
     "metadata": {},
     "output_type": "display_data"
    }
   ],
   "source": [
    "# BEGINNING OF UI FOR SELECTION OF SPORT/EVENT\n",
    "###Creating a UI\n",
    "import ipywidgets as widgets\n",
    "from IPython.display import display\n",
    "\n",
    "final_event = None\n",
    "model_data = None\n",
    "button_box = None  # Initialize button_box globally\n",
    "\n",
    "# Create a dropdown for selecting between \"Sport\" and \"Event\"\n",
    "category_dropdown = widgets.Dropdown(\n",
    "    options=[\"Sport\", \"Event\"],\n",
    "    value=\"Event\",  # Default value\n",
    "    description='Select Sport/Event:',\n",
    "    disabled=False,\n",
    ")\n",
    "\n",
    "# Function to create buttons based on selected category\n",
    "def create_buttons(change):\n",
    "    global model_data, button_box, final_event\n",
    "    # Clear previous buttons if they exist\n",
    "    if button_box is not None:\n",
    "        button_box.children = []\n",
    "    \n",
    "    # Get the selected category\n",
    "    selected_category = category_dropdown.value\n",
    "    \n",
    "    if selected_category == \"Event\":\n",
    "        # Create a button for each unique event in subset_enough_winners\n",
    "        unique_events = subset_enough_winners[\"Event\"].unique()\n",
    "        buttons = [widgets.Button(description=event) for event in unique_events]\n",
    "        \n",
    "        # Define what happens when a button is clicked\n",
    "        def on_event_button_click(b):\n",
    "            global model_data, final_event\n",
    "            event = b.description\n",
    "            model_data = subset_enough_winners[subset_enough_winners[\"Event\"] == event]\n",
    "            final_event = event\n",
    "            with output:\n",
    "                output.clear_output()\n",
    "                print(f\"Selected Event: {event}\")\n",
    "                display(model_data.head())\n",
    "        \n",
    "        for button in buttons:\n",
    "            button.on_click(on_event_button_click)\n",
    "        \n",
    "        # Display the buttons\n",
    "        button_box = widgets.VBox(buttons)\n",
    "        display(button_box)\n",
    "    \n",
    "# Create an output widget to display results\n",
    "output = widgets.Output()\n",
    "\n",
    "# Attach the function to the dropdown change event\n",
    "category_dropdown.observe(create_buttons, names='value')\n",
    "\n",
    "# Display the widgets in the notebook\n",
    "display(category_dropdown)\n",
    "display(output)\n",
    "\n",
    "# Initial call to create buttons based on the default category\n",
    "create_buttons(None)\n",
    "#model_data = subset_enough_winners[subset_enough_winners[\"Sport\"] == \"Boxing\"]"
   ]
  },
  {
   "cell_type": "code",
   "execution_count": 80,
   "id": "059e4e26",
   "metadata": {
    "ExecuteTime": {
     "end_time": "2024-08-16T22:01:29.761489Z",
     "start_time": "2024-08-16T22:01:29.747710Z"
    },
    "id": "059e4e26"
   },
   "outputs": [],
   "source": [
    "### Getting rid of Unecessary columns for building the models\n",
    "model_data = model_data.drop(columns = [\"Sport\", \"Event\", \"Year\"])\n",
    "# Making sure the size medals vs. non-medals is similar\n",
    "model_data = reduce_no_medal(model_data, len(model_data[model_data[\"Medal\"] == 1]))\n",
    "\n",
    "# Creating another model 1-hot encoding the country data\n",
    "one_hot_model = pd.get_dummies(model_data, columns=['NOC'], dtype = 'int')\n",
    "\n",
    "# Dropping the NOC column in the original data\n",
    "model_data = model_data.drop(columns = [\"NOC\"])"
   ]
  },
  {
   "cell_type": "code",
   "execution_count": 81,
   "id": "e1a1f24c",
   "metadata": {
    "ExecuteTime": {
     "end_time": "2024-08-16T22:01:35.458427Z",
     "start_time": "2024-08-16T22:01:35.454343Z"
    },
    "id": "e1a1f24c"
   },
   "outputs": [],
   "source": [
    "## The model without geographic influence\n",
    "\n",
    "X = model_data.drop(columns=['Medal'])\n",
    "Y = model_data['Medal']\n",
    "X_train, X_test, y_train, y_test = train_test_split(X, Y, test_size=0.1, random_state = 42)\n",
    "\n",
    "basic_data = (X_train, X_test, y_train, y_test)"
   ]
  },
  {
   "cell_type": "code",
   "execution_count": 82,
   "id": "4f7e9c69",
   "metadata": {
    "ExecuteTime": {
     "end_time": "2024-08-16T22:01:36.693470Z",
     "start_time": "2024-08-16T22:01:36.689090Z"
    },
    "id": "4f7e9c69"
   },
   "outputs": [],
   "source": [
    "#one_hot_model = one_hot_model.drop(columns = [\"Sport\", \"Event\", \"Year\"])\n",
    "\n",
    "### The model with Geographic influence\n",
    "one_hot_X = one_hot_model.drop(columns=['Medal'])\n",
    "one_hot_Y = one_hot_model['Medal']\n",
    "\n",
    "one_hot_X_train, one_hot_X_test, one_hot_y_train, one_hot_y_test = train_test_split(one_hot_X, one_hot_Y, test_size=0.1, random_state = 42)\n",
    "\n",
    "one_hot_data = (one_hot_X_train, one_hot_X_test, one_hot_y_train, one_hot_y_test)"
   ]
  },
  {
   "cell_type": "code",
   "execution_count": 83,
   "id": "c08985fa",
   "metadata": {
    "ExecuteTime": {
     "end_time": "2024-08-16T22:01:39.009561Z",
     "start_time": "2024-08-16T22:01:39.006105Z"
    },
    "id": "c08985fa"
   },
   "outputs": [],
   "source": [
    "def model_scorer(model_name, model, data):\n",
    "    (X_train, X_test, y_train, y_test) = data\n",
    "    model.fit(X_train, y_train)\n",
    "    return ((model_name, model.score(X_train, y_train), model.score(X_test, y_test)))"
   ]
  },
  {
   "cell_type": "code",
   "execution_count": 84,
   "id": "f4e7d936",
   "metadata": {
    "ExecuteTime": {
     "end_time": "2024-08-16T22:01:39.626724Z",
     "start_time": "2024-08-16T22:01:39.624814Z"
    },
    "id": "f4e7d936"
   },
   "outputs": [],
   "source": [
    "model_scores = []"
   ]
  },
  {
   "cell_type": "code",
   "execution_count": 85,
   "id": "8a08024f",
   "metadata": {
    "ExecuteTime": {
     "end_time": "2024-08-16T22:01:40.030827Z",
     "start_time": "2024-08-16T22:01:40.025071Z"
    },
    "id": "8a08024f"
   },
   "outputs": [],
   "source": [
    "dtc = DecisionTreeClassifier(max_leaf_nodes = 20)\n",
    "\n",
    "# Fit model to training data\n",
    "\n",
    "#dtc.fit(X_train, y_train)\n",
    "#print(\"training accuracy: {}| testing accuracy: {}\".format(round(dtc.score(X_train, y_train),2), round(dtc.score(X_test, y_test),2)))\n",
    "\n",
    "#print(export_text(dtc, feature_names = X.columns))\n",
    "model_scores.append(model_scorer(\"DTC\", dtc, basic_data))"
   ]
  },
  {
   "cell_type": "code",
   "execution_count": 86,
   "id": "61c812d6",
   "metadata": {
    "ExecuteTime": {
     "end_time": "2024-08-16T22:01:40.562473Z",
     "start_time": "2024-08-16T22:01:40.555513Z"
    },
    "id": "61c812d6",
    "scrolled": false
   },
   "outputs": [],
   "source": [
    "one_hot_dtc = DecisionTreeClassifier(max_leaf_nodes = 20)\n",
    "\n",
    "# Fit model to training data\n",
    "\n",
    "#one_hot_dtc.fit(one_hot_X_train, one_hot_y_train)\n",
    "#print(\"training accuracy: {}| testing accuracy: {}\".format(round(one_hot_dtc.score(one_hot_X_train, one_hot_y_train),2), round(one_hot_dtc.score(one_hot_X_test, one_hot_y_test),2)))\n",
    "\n",
    "#print(export_text(one_hot_dtc, feature_names = one_hot_X.columns))\n",
    "model_scores.append(model_scorer(\"one_hot_DTC\", one_hot_dtc, one_hot_data))"
   ]
  },
  {
   "cell_type": "code",
   "execution_count": 87,
   "id": "33385b2a",
   "metadata": {
    "ExecuteTime": {
     "end_time": "2024-08-16T22:01:41.142673Z",
     "start_time": "2024-08-16T22:01:41.079641Z"
    },
    "id": "33385b2a",
    "outputId": "46c123ee-f5cc-4322-de8e-66e90c97c5a7"
   },
   "outputs": [
    {
     "name": "stderr",
     "output_type": "stream",
     "text": [
      "/Users/ethanbaird/Desktop/Dartmouth/Math/Math_76/Final_Project/.venv/lib/python3.11/site-packages/sklearn/linear_model/_logistic.py:469: ConvergenceWarning: lbfgs failed to converge (status=1):\n",
      "STOP: TOTAL NO. of ITERATIONS REACHED LIMIT.\n",
      "\n",
      "Increase the number of iterations (max_iter) or scale the data as shown in:\n",
      "    https://scikit-learn.org/stable/modules/preprocessing.html\n",
      "Please also refer to the documentation for alternative solver options:\n",
      "    https://scikit-learn.org/stable/modules/linear_model.html#logistic-regression\n",
      "  n_iter_i = _check_optimize_result(\n"
     ]
    }
   ],
   "source": [
    "#importing sklearn model constructors\n",
    "from sklearn.linear_model import LogisticRegression\n",
    "from sklearn.discriminant_analysis import LinearDiscriminantAnalysis\n",
    "\n",
    "\n",
    "'''ADD SOME CODE HERE'''\n",
    "#creating logistic regression model\n",
    "lg = LogisticRegression(max_iter = 1000)\n",
    "\n",
    "#saving results\n",
    "model_scores.append(model_scorer(\"Logistic\", lg, basic_data))\n",
    "\n",
    "#one hot logistic regression\n",
    "one_hot_lg = LogisticRegression()\n",
    "\n",
    "#saving results\n",
    "model_scores.append(model_scorer(\"one_hot_Logistic\", one_hot_lg, one_hot_data))"
   ]
  },
  {
   "cell_type": "code",
   "execution_count": 88,
   "id": "6266bbc1",
   "metadata": {
    "ExecuteTime": {
     "end_time": "2024-08-16T22:01:41.724118Z",
     "start_time": "2024-08-16T22:01:41.639420Z"
    },
    "id": "6266bbc1"
   },
   "outputs": [],
   "source": [
    "#creating LDA model\n",
    "lda = LinearDiscriminantAnalysis(store_covariance = True)\n",
    "\n",
    "#saving results\n",
    "model_scores.append(model_scorer(\"LDA\", lda, basic_data))\n",
    "\n",
    "#one hot version\n",
    "one_hot_lda = LinearDiscriminantAnalysis(store_covariance = True)\n",
    "\n",
    "#saving results\n",
    "model_scores.append(model_scorer(\"one_hot_LDA\", one_hot_lda, one_hot_data))\n"
   ]
  },
  {
   "cell_type": "code",
   "execution_count": 89,
   "id": "7525312d",
   "metadata": {
    "ExecuteTime": {
     "end_time": "2024-08-16T22:01:42.605720Z",
     "start_time": "2024-08-16T22:01:42.386631Z"
    },
    "id": "7525312d"
   },
   "outputs": [],
   "source": [
    "#creating random forest model\n",
    "rfc = RandomForestClassifier()\n",
    "\n",
    "#saving results\n",
    "model_scores.append(model_scorer(\"RFC\", rfc, basic_data))\n",
    "\n",
    "#one hot version\n",
    "one_hot_rfc = RandomForestClassifier()\n",
    "\n",
    "#saving results\n",
    "model_scores.append(model_scorer(\"one_hot_RFC\", one_hot_rfc, one_hot_data))\n",
    "\n",
    "#creating bagging model\n",
    "bc = BaggingClassifier()\n",
    "\n",
    "#saving results\n",
    "model_scores.append(model_scorer(\"Bagging\", bc, basic_data))\n",
    "\n",
    "#one hot version\n",
    "one_hot_bc = BaggingClassifier()\n",
    "\n",
    "#saving results\n",
    "model_scores.append(model_scorer(\"one_hot_Bagging\", one_hot_bc, one_hot_data))\n",
    "\n",
    "#creating boosting model\n",
    "gbc = GradientBoostingClassifier()\n",
    "\n",
    "#saving results\n",
    "model_scores.append(model_scorer(\"Boosting\", gbc, basic_data))\n",
    "\n",
    "#one hot version\n",
    "one_hot_gbc = GradientBoostingClassifier()\n",
    "\n",
    "#saving results\n",
    "model_scores.append(model_scorer(\"one_hot_Boosting\", one_hot_gbc, one_hot_data))"
   ]
  },
  {
   "cell_type": "code",
   "execution_count": 90,
   "id": "6e249847",
   "metadata": {
    "ExecuteTime": {
     "end_time": "2024-08-16T22:01:43.079490Z",
     "start_time": "2024-08-16T22:01:43.054764Z"
    },
    "id": "6e249847"
   },
   "outputs": [],
   "source": [
    "#creating svc model\n",
    "svc = SVC()\n",
    "\n",
    "#saving results\n",
    "model_scores.append(model_scorer(\"SVC\", svc, basic_data))\n",
    "\n",
    "#one hot version\n",
    "one_hot_svc = SVC()\n",
    "\n",
    "#saving results\n",
    "model_scores.append(model_scorer(\"one_hot_SVC\", one_hot_svc, one_hot_data))"
   ]
  },
  {
   "cell_type": "code",
   "execution_count": 91,
   "id": "8a180bb1",
   "metadata": {
    "ExecuteTime": {
     "end_time": "2024-08-16T22:01:43.554198Z",
     "start_time": "2024-08-16T22:01:43.551824Z"
    },
    "id": "8a180bb1"
   },
   "outputs": [],
   "source": [
    "model_scores = pd.DataFrame(model_scores, columns=['Model', 'Training Accuracy', 'Testing Accuracy'])"
   ]
  },
  {
   "cell_type": "code",
   "execution_count": 92,
   "id": "6d723f50",
   "metadata": {
    "ExecuteTime": {
     "end_time": "2024-08-16T22:01:44.482044Z",
     "start_time": "2024-08-16T22:01:44.476646Z"
    },
    "id": "6d723f50",
    "outputId": "c90b925e-2007-463a-eead-334745227935"
   },
   "outputs": [
    {
     "data": {
      "text/html": [
       "<div>\n",
       "<style scoped>\n",
       "    .dataframe tbody tr th:only-of-type {\n",
       "        vertical-align: middle;\n",
       "    }\n",
       "\n",
       "    .dataframe tbody tr th {\n",
       "        vertical-align: top;\n",
       "    }\n",
       "\n",
       "    .dataframe thead th {\n",
       "        text-align: right;\n",
       "    }\n",
       "</style>\n",
       "<table border=\"1\" class=\"dataframe\">\n",
       "  <thead>\n",
       "    <tr style=\"text-align: right;\">\n",
       "      <th></th>\n",
       "      <th>Model</th>\n",
       "      <th>Training Accuracy</th>\n",
       "      <th>Testing Accuracy</th>\n",
       "    </tr>\n",
       "  </thead>\n",
       "  <tbody>\n",
       "    <tr>\n",
       "      <th>0</th>\n",
       "      <td>DTC</td>\n",
       "      <td>0.855172</td>\n",
       "      <td>0.529412</td>\n",
       "    </tr>\n",
       "    <tr>\n",
       "      <th>1</th>\n",
       "      <td>one_hot_DTC</td>\n",
       "      <td>0.903448</td>\n",
       "      <td>0.647059</td>\n",
       "    </tr>\n",
       "    <tr>\n",
       "      <th>2</th>\n",
       "      <td>Logistic</td>\n",
       "      <td>0.613793</td>\n",
       "      <td>0.411765</td>\n",
       "    </tr>\n",
       "    <tr>\n",
       "      <th>3</th>\n",
       "      <td>one_hot_Logistic</td>\n",
       "      <td>0.827586</td>\n",
       "      <td>0.588235</td>\n",
       "    </tr>\n",
       "    <tr>\n",
       "      <th>4</th>\n",
       "      <td>LDA</td>\n",
       "      <td>0.613793</td>\n",
       "      <td>0.411765</td>\n",
       "    </tr>\n",
       "    <tr>\n",
       "      <th>5</th>\n",
       "      <td>one_hot_LDA</td>\n",
       "      <td>0.862069</td>\n",
       "      <td>0.705882</td>\n",
       "    </tr>\n",
       "    <tr>\n",
       "      <th>6</th>\n",
       "      <td>RFC</td>\n",
       "      <td>0.993103</td>\n",
       "      <td>0.352941</td>\n",
       "    </tr>\n",
       "    <tr>\n",
       "      <th>7</th>\n",
       "      <td>one_hot_RFC</td>\n",
       "      <td>1.000000</td>\n",
       "      <td>0.647059</td>\n",
       "    </tr>\n",
       "    <tr>\n",
       "      <th>8</th>\n",
       "      <td>Bagging</td>\n",
       "      <td>0.979310</td>\n",
       "      <td>0.411765</td>\n",
       "    </tr>\n",
       "    <tr>\n",
       "      <th>9</th>\n",
       "      <td>one_hot_Bagging</td>\n",
       "      <td>0.986207</td>\n",
       "      <td>0.764706</td>\n",
       "    </tr>\n",
       "    <tr>\n",
       "      <th>10</th>\n",
       "      <td>Boosting</td>\n",
       "      <td>0.944828</td>\n",
       "      <td>0.352941</td>\n",
       "    </tr>\n",
       "    <tr>\n",
       "      <th>11</th>\n",
       "      <td>one_hot_Boosting</td>\n",
       "      <td>0.958621</td>\n",
       "      <td>0.705882</td>\n",
       "    </tr>\n",
       "    <tr>\n",
       "      <th>12</th>\n",
       "      <td>SVC</td>\n",
       "      <td>0.503448</td>\n",
       "      <td>0.470588</td>\n",
       "    </tr>\n",
       "    <tr>\n",
       "      <th>13</th>\n",
       "      <td>one_hot_SVC</td>\n",
       "      <td>0.503448</td>\n",
       "      <td>0.470588</td>\n",
       "    </tr>\n",
       "  </tbody>\n",
       "</table>\n",
       "</div>"
      ],
      "text/plain": [
       "               Model  Training Accuracy  Testing Accuracy\n",
       "0                DTC           0.855172          0.529412\n",
       "1        one_hot_DTC           0.903448          0.647059\n",
       "2           Logistic           0.613793          0.411765\n",
       "3   one_hot_Logistic           0.827586          0.588235\n",
       "4                LDA           0.613793          0.411765\n",
       "5        one_hot_LDA           0.862069          0.705882\n",
       "6                RFC           0.993103          0.352941\n",
       "7        one_hot_RFC           1.000000          0.647059\n",
       "8            Bagging           0.979310          0.411765\n",
       "9    one_hot_Bagging           0.986207          0.764706\n",
       "10          Boosting           0.944828          0.352941\n",
       "11  one_hot_Boosting           0.958621          0.705882\n",
       "12               SVC           0.503448          0.470588\n",
       "13       one_hot_SVC           0.503448          0.470588"
      ]
     },
     "execution_count": 92,
     "metadata": {},
     "output_type": "execute_result"
    }
   ],
   "source": [
    "model_scores"
   ]
  },
  {
   "cell_type": "code",
   "execution_count": 93,
   "id": "68824fe4",
   "metadata": {
    "id": "68824fe4"
   },
   "outputs": [],
   "source": [
    "def model_basic(model, event):\n",
    "    test_boxing = test_df[test_df['Event']==event].drop(columns=[\"Year\", \"Season\", \"City\",\"Name\", \"Team\",\"Unnamed: 13\", \"Event\",\"Sport\",\"NOC\",\"Games\"] )\n",
    "    test_boxing['Sex'] = test_boxing['Sex'].apply(lambda x: 0 if x == 'M' else 1)\n",
    "    predictions = model.predict(test_boxing)\n",
    "    return np.array(predictions)"
   ]
  },
  {
   "cell_type": "code",
   "execution_count": 94,
   "id": "1d84b0e6",
   "metadata": {
    "id": "1d84b0e6"
   },
   "outputs": [],
   "source": [
    "def model_one_hot(model, event):\n",
    "    test_boxing_one_hot = test_boxing = test_df[test_df['Event']==event].drop(columns=[\"Year\", \"Season\", \"City\",\"Name\", \"Team\",\"Unnamed: 13\", \"Event\",\"Sport\",\"Games\"] )\n",
    "    test_boxing_one_hot = pd.get_dummies(test_boxing_one_hot, columns=['NOC'], dtype = 'int')\n",
    "    list_of_col = list(one_hot_X_train.columns.values)\n",
    "    for col in list_of_col:\n",
    "        test_boxing_one_hot[col] = 0\n",
    "\n",
    "    test_boxing_one_hot = test_boxing_one_hot[one_hot_X_train.columns]\n",
    "\n",
    "    predictions = model.predict(test_boxing_one_hot)\n",
    "    return np.array(predictions)"
   ]
  },
  {
   "cell_type": "code",
   "execution_count": 95,
   "id": "292bf4487c8e73bb",
   "metadata": {},
   "outputs": [
    {
     "name": "stdout",
     "output_type": "stream",
     "text": [
      "Athletics Men's High Jump\n",
      "[0.3, 0.7, 0.5, 0.7, 0.5, 0.7, 0.4, 0.7, 0.4, 0.3, 0.6, 0.7, 0.3, 0.7]\n"
     ]
    }
   ],
   "source": [
    "W_Foil_Ind = np.array([1,0,0,0,0,0,0,0,1,1])\n",
    "M_Div_Spr = np.array([1,1,1,0,0,0,0,0,0])\n",
    "W_Gym_Floor = np.array([1,1,0,1,0,0,0,0,0])\n",
    "M_Arch_Ind = np.array([1,0,0,0,1,0,1,0,0,0])\n",
    "M_Ath_High = np.array([1,1,1,0,0,0,0,0,0,0])\n",
    "M_Ath_Mara = np.array([1,1,1,0,0,0,0,0,0,0])\n",
    "M_Box_Heavy = np.array([1,0,1,0,1,0,1,0])\n",
    "models = [dtc,one_hot_dtc,lg,one_hot_lg,lda,one_hot_lda,rfc,one_hot_rfc,bc,one_hot_bc,gbc,one_hot_gbc,svc,one_hot_svc]\n",
    "models_names = [\"DTC\",\"one_hot_DTC\",\"Logistic\",\"one_hot_Logistic\",\"LDA\",\"one_hot_LDA\",\"RFC\",\"one_hot_RFC\",\"Bagging\",\"one_hot_Bagging\",\"Boosting\",\"one_hot_Boosting\",\"SVC\",\"one_hot_SVC\"]\n",
    "final_acc_list = []\n",
    "test_df = pd.read_csv(\"cvs\")\n",
    "\n",
    "i = 0\n",
    "print(final_event)\n",
    "for model in models:\n",
    "    i += 1\n",
    "    if final_event == \"Fencing Women's Foil Individual\" or final_event == \"Fencing\":\n",
    "        print()\n",
    "        if i%2 == 0:\n",
    "            predictions = model_one_hot(model, final_event)\n",
    "            accuracy = (len(W_Foil_Ind) - np.count_nonzero(predictions - W_Foil_Ind))/len(W_Foil_Ind)\n",
    "            final_acc_list.append(accuracy)\n",
    "        else:\n",
    "            predictions = model_basic(model, final_event)\n",
    "            accuracy = (len(W_Foil_Ind) - np.count_nonzero(predictions - W_Foil_Ind))/len(W_Foil_Ind)\n",
    "            final_acc_list.append(accuracy)\n",
    "    elif final_event == \"Boxing Men's Heavyweight\" or final_event == \"Boxing\":\n",
    "        if i%2 == 0:\n",
    "            predictions = model_one_hot(model,final_event)\n",
    "            accuracy = (len(M_Box_Heavy) - np.count_nonzero(predictions - M_Box_Heavy))/len(M_Box_Heavy)\n",
    "            final_acc_list.append(accuracy)\n",
    "        else:\n",
    "            predictions = model_basic(model, final_event)\n",
    "            accuracy = (len(M_Box_Heavy) - np.count_nonzero(predictions - M_Box_Heavy))/len(M_Box_Heavy)\n",
    "            final_acc_list.append(accuracy)\n",
    "    elif final_event == \"Diving Men's Springboard\" or final_event == \"Diving\":\n",
    "        if i%2 == 0:\n",
    "            predictions = model_one_hot(model,final_event)\n",
    "            accuracy = (len(M_Div_Spr) - np.count_nonzero(predictions - M_Div_Spr))/len(M_Div_Spr)\n",
    "            final_acc_list.append(accuracy)\n",
    "        else:\n",
    "            predictions = model_basic(model, final_event)\n",
    "            accuracy = (len(M_Div_Spr) - np.count_nonzero(predictions - M_Div_Spr))/len(M_Div_Spr)\n",
    "            final_acc_list.append(accuracy)\n",
    "    elif final_event == \"Gymnastics Women's Floor Exercise\" or final_event == \"Gymnastics\":\n",
    "        if i%2 == 0:\n",
    "            predictions = model_one_hot(model,final_event)\n",
    "            accuracy = (len(W_Gym_Floor) - np.count_nonzero(predictions - W_Gym_Floor))/len(W_Gym_Floor)\n",
    "            final_acc_list.append(accuracy)\n",
    "        else:\n",
    "            predictions = model_basic(model, final_event)\n",
    "            accuracy = (len(W_Gym_Floor) - np.count_nonzero(predictions - W_Gym_Floor))/len(W_Gym_Floor)\n",
    "            final_acc_list.append(accuracy)\n",
    "    elif final_event == \"Archery Men's Individual\" or final_event == \"Archery\":\n",
    "        if i%2 == 0:\n",
    "            predictions = model_one_hot(model,final_event)\n",
    "            accuracy = (len(M_Arch_Ind) - np.count_nonzero(predictions - M_Arch_Ind))/len(M_Arch_Ind)\n",
    "            final_acc_list.append(accuracy)\n",
    "        else:\n",
    "            predictions = model_basic(model, final_event)\n",
    "            accuracy = (len(M_Arch_Ind) - np.count_nonzero(predictions - M_Arch_Ind))/len(M_Arch_Ind)\n",
    "            final_acc_list.append(accuracy)\n",
    "    elif final_event == \"Athletics Men's High Jump\":\n",
    "        if i%2 == 0:\n",
    "            predictions = model_one_hot(model,final_event)\n",
    "            accuracy = (len(M_Ath_High) - np.count_nonzero(predictions - M_Ath_High))/len(M_Ath_High)\n",
    "            final_acc_list.append(accuracy)\n",
    "        else:\n",
    "            predictions = model_basic(model, final_event)\n",
    "            accuracy = (len(M_Ath_High) - np.count_nonzero(predictions - M_Ath_High))/len(M_Ath_High)\n",
    "            final_acc_list.append(accuracy)\n",
    "    elif final_event == \"Athletics Men's Marathon\":\n",
    "        if i%2 == 0:\n",
    "            predictions = model_one_hot(model,final_event)\n",
    "            accuracy = (len(M_Ath_Mara) - np.count_nonzero(predictions - M_Ath_Mara))/len(M_Ath_Mara)\n",
    "            final_acc_list.append(accuracy)\n",
    "        else:\n",
    "            predictions = model_basic(model, final_event)\n",
    "            accuracy = (len(M_Ath_Mara) - np.count_nonzero(predictions - M_Ath_Mara))/len(M_Ath_Mara)\n",
    "            final_acc_list.append(accuracy)\n",
    "\n",
    "print(final_acc_list)\n",
    "\n"
   ]
  },
  {
   "cell_type": "code",
   "execution_count": null,
   "id": "28ac4687",
   "metadata": {},
   "outputs": [],
   "source": []
  }
 ],
 "metadata": {
  "colab": {
   "provenance": []
  },
  "kernelspec": {
   "display_name": "Python 3 (ipykernel)",
   "language": "python",
   "name": "python3"
  },
  "language_info": {
   "codemirror_mode": {
    "name": "ipython",
    "version": 3
   },
   "file_extension": ".py",
   "mimetype": "text/x-python",
   "name": "python",
   "nbconvert_exporter": "python",
   "pygments_lexer": "ipython3",
   "version": "3.11.4"
  }
 },
 "nbformat": 4,
 "nbformat_minor": 5
}
